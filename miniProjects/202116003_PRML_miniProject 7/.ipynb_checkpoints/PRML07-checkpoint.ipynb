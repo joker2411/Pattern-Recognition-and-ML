{
 "cells": [
  {
   "cell_type": "markdown",
   "id": "3af96531",
   "metadata": {},
   "source": [
    "# Code"
   ]
  },
  {
   "cell_type": "markdown",
   "id": "f8e50683",
   "metadata": {},
   "source": [
    "### Importing libraries and dataset"
   ]
  },
  {
   "cell_type": "code",
   "execution_count": 194,
   "id": "334e3bc5",
   "metadata": {},
   "outputs": [],
   "source": [
    "import numpy as np\n",
    "import matplotlib.pyplot as plt\n",
    "import seaborn as sns\n",
    "from sklearn.datasets import make_blobs\n",
    "from cvxopt import matrix, solvers"
   ]
  },
  {
   "cell_type": "code",
   "execution_count": 195,
   "id": "27150a8d",
   "metadata": {},
   "outputs": [
    {
     "data": {
      "text/html": [
       "<div>\n",
       "<style scoped>\n",
       "    .dataframe tbody tr th:only-of-type {\n",
       "        vertical-align: middle;\n",
       "    }\n",
       "\n",
       "    .dataframe tbody tr th {\n",
       "        vertical-align: top;\n",
       "    }\n",
       "\n",
       "    .dataframe thead th {\n",
       "        text-align: right;\n",
       "    }\n",
       "</style>\n",
       "<table border=\"1\" class=\"dataframe\">\n",
       "  <thead>\n",
       "    <tr style=\"text-align: right;\">\n",
       "      <th></th>\n",
       "      <th>Sepal Length</th>\n",
       "      <th>Sepal Width</th>\n",
       "      <th>Petal Length</th>\n",
       "      <th>Petal Width</th>\n",
       "      <th>Species</th>\n",
       "    </tr>\n",
       "  </thead>\n",
       "  <tbody>\n",
       "    <tr>\n",
       "      <th>0</th>\n",
       "      <td>5.1</td>\n",
       "      <td>3.5</td>\n",
       "      <td>1.4</td>\n",
       "      <td>0.2</td>\n",
       "      <td>Iris-setosa</td>\n",
       "    </tr>\n",
       "    <tr>\n",
       "      <th>1</th>\n",
       "      <td>4.9</td>\n",
       "      <td>3.0</td>\n",
       "      <td>1.4</td>\n",
       "      <td>0.2</td>\n",
       "      <td>Iris-setosa</td>\n",
       "    </tr>\n",
       "    <tr>\n",
       "      <th>2</th>\n",
       "      <td>4.7</td>\n",
       "      <td>3.2</td>\n",
       "      <td>1.3</td>\n",
       "      <td>0.2</td>\n",
       "      <td>Iris-setosa</td>\n",
       "    </tr>\n",
       "    <tr>\n",
       "      <th>3</th>\n",
       "      <td>4.6</td>\n",
       "      <td>3.1</td>\n",
       "      <td>1.5</td>\n",
       "      <td>0.2</td>\n",
       "      <td>Iris-setosa</td>\n",
       "    </tr>\n",
       "    <tr>\n",
       "      <th>4</th>\n",
       "      <td>5.0</td>\n",
       "      <td>3.6</td>\n",
       "      <td>1.4</td>\n",
       "      <td>0.2</td>\n",
       "      <td>Iris-setosa</td>\n",
       "    </tr>\n",
       "    <tr>\n",
       "      <th>...</th>\n",
       "      <td>...</td>\n",
       "      <td>...</td>\n",
       "      <td>...</td>\n",
       "      <td>...</td>\n",
       "      <td>...</td>\n",
       "    </tr>\n",
       "    <tr>\n",
       "      <th>145</th>\n",
       "      <td>6.7</td>\n",
       "      <td>3.0</td>\n",
       "      <td>5.2</td>\n",
       "      <td>2.3</td>\n",
       "      <td>Iris-virginica</td>\n",
       "    </tr>\n",
       "    <tr>\n",
       "      <th>146</th>\n",
       "      <td>6.3</td>\n",
       "      <td>2.5</td>\n",
       "      <td>5.0</td>\n",
       "      <td>1.9</td>\n",
       "      <td>Iris-virginica</td>\n",
       "    </tr>\n",
       "    <tr>\n",
       "      <th>147</th>\n",
       "      <td>6.5</td>\n",
       "      <td>3.0</td>\n",
       "      <td>5.2</td>\n",
       "      <td>2.0</td>\n",
       "      <td>Iris-virginica</td>\n",
       "    </tr>\n",
       "    <tr>\n",
       "      <th>148</th>\n",
       "      <td>6.2</td>\n",
       "      <td>3.4</td>\n",
       "      <td>5.4</td>\n",
       "      <td>2.3</td>\n",
       "      <td>Iris-virginica</td>\n",
       "    </tr>\n",
       "    <tr>\n",
       "      <th>149</th>\n",
       "      <td>5.9</td>\n",
       "      <td>3.0</td>\n",
       "      <td>5.1</td>\n",
       "      <td>1.8</td>\n",
       "      <td>Iris-virginica</td>\n",
       "    </tr>\n",
       "  </tbody>\n",
       "</table>\n",
       "<p>150 rows × 5 columns</p>\n",
       "</div>"
      ],
      "text/plain": [
       "     Sepal Length  Sepal Width  Petal Length  Petal Width         Species\n",
       "0             5.1          3.5           1.4          0.2     Iris-setosa\n",
       "1             4.9          3.0           1.4          0.2     Iris-setosa\n",
       "2             4.7          3.2           1.3          0.2     Iris-setosa\n",
       "3             4.6          3.1           1.5          0.2     Iris-setosa\n",
       "4             5.0          3.6           1.4          0.2     Iris-setosa\n",
       "..            ...          ...           ...          ...             ...\n",
       "145           6.7          3.0           5.2          2.3  Iris-virginica\n",
       "146           6.3          2.5           5.0          1.9  Iris-virginica\n",
       "147           6.5          3.0           5.2          2.0  Iris-virginica\n",
       "148           6.2          3.4           5.4          2.3  Iris-virginica\n",
       "149           5.9          3.0           5.1          1.8  Iris-virginica\n",
       "\n",
       "[150 rows x 5 columns]"
      ]
     },
     "execution_count": 195,
     "metadata": {},
     "output_type": "execute_result"
    }
   ],
   "source": [
    "data = pd.read_csv(\"/Users/ambuj/Desktop/iris.data\", names = ['Sepal Length', 'Sepal Width', 'Petal Length', 'Petal Width', 'Species'])\n",
    "data"
   ]
  },
  {
   "cell_type": "markdown",
   "id": "25260957",
   "metadata": {},
   "source": [
    "# Question-1\n",
    "\n",
    "### Model Creation\n",
    "\n",
    "#### Write your SVM function for implementing binary SVM algorithm with linear and RBF kernel."
   ]
  },
  {
   "cell_type": "code",
   "execution_count": 196,
   "id": "29dffa8f",
   "metadata": {},
   "outputs": [],
   "source": [
    "def kernel(name, x, y):\n",
    "    if name == 'linear':\n",
    "        return np.dot(x, y.T)\n",
    "    if name == 'poly':\n",
    "        return (1 + np.dot(x, y.T)) ** 3\n",
    "    if name == 'RBF':\n",
    "        gamma = 0.5\n",
    "        return math.exp(-gamma * np.linalg.norm(x-y) ** 2)"
   ]
  },
  {
   "cell_type": "code",
   "execution_count": 197,
   "id": "976d0338",
   "metadata": {},
   "outputs": [],
   "source": [
    "class SVM:\n",
    "    def __init__(self):\n",
    "        pass\n",
    "\n",
    "    def fit(self, X, y, kernel_name='linear'):\n",
    "        # Store for later use\n",
    "        self.X = X\n",
    "        self.y = y\n",
    "        self.m = X.shape[0]\n",
    "        self.kernel_name = kernel_name\n",
    "\n",
    "        # Create optimization problem matrices\n",
    "        P = np.empty((self.m, self.m))\n",
    "        for i in range(self.m):\n",
    "            for j in range(self.m):\n",
    "                P[i, j] = y[i] * y[j] * kernel(kernel_name, X[i], X[j])\n",
    "        q = -np.ones((self.m, 1))\n",
    "        G = -np.eye(self.m)\n",
    "        h = np.zeros((self.m, 1))\n",
    "        A = y.reshape((1, self.m))\n",
    "        b = np.zeros((1, 1))\n",
    "\n",
    "        # Convert to CVXOPT matrix format\n",
    "        P = matrix(P)\n",
    "        q = matrix(q)\n",
    "        G = matrix(G)\n",
    "        h = matrix(h)\n",
    "        A = matrix(A.astype('double'))\n",
    "        b = matrix(b)\n",
    "\n",
    "        # Solve Optimization Problem\n",
    "        sol = solvers.qp(P, q, G, h, A, b)\n",
    "        self.lambdas = np.array(sol['x']).reshape(self.m)\n",
    "\n",
    "        # Calculate b\n",
    "        SV = np.where(self.lambdas > 1e-4)[0][0]\n",
    "        self.b = y[SV] - sum(self.lambdas * y * kernel(kernel_name, X, X[SV]))\n",
    "\n",
    "    # Plot scatterplot of data and contour plot of SVM\n",
    "    def plot(self):\n",
    "        x_min = min(self.X[:, 0]) - 0.5\n",
    "        x_max = max(self.X[:, 0]) + 0.5\n",
    "        y_min = min(self.X[:, 1]) - 0.5\n",
    "        y_max = max(self.X[:, 1]) + 0.5\n",
    "        step = 0.02\n",
    "        xx, yy = np.meshgrid(np.arange(x_min, x_max, step), np.arange(y_min, y_max, step))\n",
    "        d = np.concatenate((xx.ravel().reshape(-1, 1), yy.ravel().reshape(-1, 1)), axis=1)\n",
    "\n",
    "        Z = self.b + np.sum(\n",
    "            self.lambdas.reshape((self.m, 1)) * self.y.reshape((self.m, 1)) * kernel(self.kernel_name, self.X, d),\n",
    "            axis=0)\n",
    "        Z = Z.reshape(xx.shape)\n",
    "\n",
    "        fig, ax = plt.subplots(figsize = (8,8))\n",
    "        sns.scatterplot(x=self.X[:, 0], y=self.X[:, 1], hue=self.y, ax=ax, palette='winter')\n",
    "        ax.contour(xx, yy, Z, levels=[-1, 0, 1])\n",
    "        fig.show()\n",
    "\n",
    "    # Predict class of given data point\n",
    "    def predict(self, u):\n",
    "        if self.b + sum(self.lambdas * self.y * kernel(self.kernel_name, self.X, u)) >= 0:\n",
    "            return 1\n",
    "        else:\n",
    "            return -1"
   ]
  },
  {
   "cell_type": "code",
   "execution_count": 198,
   "id": "35b0e69e",
   "metadata": {},
   "outputs": [],
   "source": [
    "def accuracy(y, est_y):\n",
    "    count = 0\n",
    "    for i in range(len(y)):\n",
    "        if y[i]==est_y[i]:\n",
    "            count = count+1\n",
    "    accuracy = count/len(y)\n",
    "    return accuracy*100"
   ]
  },
  {
   "cell_type": "markdown",
   "id": "bd786224",
   "metadata": {},
   "source": [
    "# Question-2\n",
    "\n",
    "### Calculating accuracy and plotting SVM linear hyperplane\n",
    "\n",
    "#### Consider the Sepal. Length and Sepal Width of the Setosa and Versicolor flowers only. It would be 100 ×3 dataset. Train an SVM classifier with a linear kernel. Find the separating hyperplane. Plot the separating hyperplane along with the data points. (Use different colors for different classes)."
   ]
  },
  {
   "cell_type": "code",
   "execution_count": 199,
   "id": "140b2ff4",
   "metadata": {},
   "outputs": [],
   "source": [
    "selected_df = data.loc[0:99]\n",
    "selected_df = selected_df[['Sepal Length','Sepal Width', 'Species']]\n",
    "X, y = selected_df[['Sepal Length','Sepal Width']].to_numpy(), selected_df['Species'].to_numpy()\n",
    "y[0:50] = -1\n",
    "y[50:100] = 1"
   ]
  },
  {
   "cell_type": "code",
   "execution_count": 200,
   "id": "2702718b",
   "metadata": {},
   "outputs": [
    {
     "data": {
      "text/plain": [
       "<matplotlib.collections.PathCollection at 0x7fd1e8b2d400>"
      ]
     },
     "execution_count": 200,
     "metadata": {},
     "output_type": "execute_result"
    },
    {
     "data": {
      "image/png": "[encoded data removed]",
      "text/plain": [
       "<Figure size 432x288 with 1 Axes>"
      ]
     },
     "metadata": {
      "needs_background": "light"
     },
     "output_type": "display_data"
    }
   ],
   "source": [
    "plt.scatter(X[:, 0], X[:, 1], c=y, cmap='winter')"
   ]
  },
  {
   "cell_type": "code",
   "execution_count": 201,
   "id": "9747c278",
   "metadata": {},
   "outputs": [
    {
     "name": "stdout",
     "output_type": "stream",
     "text": [
      "     pcost       dcost       gap    pres   dres\n",
      " 0: -1.7775e+01 -3.8527e+01  3e+02  2e+01  2e+00\n",
      " 1: -3.0310e+01 -3.6184e+01  1e+02  7e+00  8e-01\n",
      " 2: -5.7279e+01 -5.4062e+01  1e+02  4e+00  5e-01\n",
      " 3: -4.3187e+01 -4.2685e+01  5e+01  1e+00  2e-01\n",
      " 4: -3.3936e+01 -3.4346e+01  4e+00  1e-01  1e-02\n",
      " 5: -3.3794e+01 -3.3801e+01  4e-02  1e-03  1e-04\n",
      " 6: -3.3795e+01 -3.3795e+01  4e-04  1e-05  1e-06\n",
      " 7: -3.3795e+01 -3.3795e+01  4e-06  1e-07  1e-08\n",
      " 8: -3.3795e+01 -3.3795e+01  4e-08  1e-09  1e-10\n",
      "Optimal solution found.\n"
     ]
    },
    {
     "name": "stderr",
     "output_type": "stream",
     "text": [
      "/var/folders/kl/55tfkryd5vs0fjm2fnv6vd140000gn/T/ipykernel_71532/3222782499.py:57: UserWarning: Matplotlib is currently using module://matplotlib_inline.backend_inline, which is a non-GUI backend, so cannot show the figure.\n",
      "  fig.show()\n"
     ]
    },
    {
     "data": {
      "image/png": "[encoded data removed]",
      "text/plain": [
       "<Figure size 576x576 with 1 Axes>"
      ]
     },
     "metadata": {
      "needs_background": "light"
     },
     "output_type": "display_data"
    }
   ],
   "source": [
    "svm = SVM()\n",
    "svm.fit(X, y)\n",
    "svm.plot()"
   ]
  },
  {
   "cell_type": "code",
   "execution_count": 245,
   "id": "26865ad5",
   "metadata": {},
   "outputs": [
    {
     "name": "stdout",
     "output_type": "stream",
     "text": [
      "Predicted values are : [-1, -1, -1, -1, -1, -1, -1, -1, -1, -1, -1, -1, -1, -1, -1, -1, -1, -1, -1, -1, -1, -1, -1, -1, -1, -1, -1, -1, -1, -1, -1, -1, -1, -1, -1, -1, -1, -1, -1, -1, -1, -1, -1, -1, -1, -1, -1, -1, -1, -1, 1, 1, 1, 1, 1, 1, 1, 1, 1, 1, 1, 1, 1, 1, 1, 1, 1, 1, 1, 1, 1, 1, 1, 1, 1, 1, 1, 1, 1, 1, 1, 1, 1, 1, 1, 1, 1, 1, 1, 1, 1, 1, 1, 1, 1, 1, 1, 1, 1, 1]\n",
      "Accuracy observed for data is : 100.0\n"
     ]
    }
   ],
   "source": [
    "est_y = []\n",
    "for data_point in X:\n",
    "    est_y.append(svm.predict(data_point))\n",
    "    \n",
    "print(\"Predicted values are : \" + str(est_y))\n",
    "print(\"Accuracy observed for data is : \" + str(accuracy(y, est_y)))"
   ]
  },
  {
   "cell_type": "markdown",
   "id": "3cde1340",
   "metadata": {},
   "source": [
    "# Question-3\n",
    "\n",
    "#### Consider the Setosa and Versicolor flowers (100× 5 dataset) . Separate the first 80 data points as the training set, the next 10 data points as the validation set and the last 10 data points as the testing set. Find the testing accuracy of your SVM model with a linear kernel."
   ]
  },
  {
   "cell_type": "code",
   "execution_count": 202,
   "id": "a741c5b3",
   "metadata": {},
   "outputs": [],
   "source": [
    "train_X, val_X, test_X = X[0:80], X[80:90], X[90:100]\n",
    "train_y, val_y, test_y = y[0:80], y[80:90], y[90:100]"
   ]
  },
  {
   "cell_type": "code",
   "execution_count": 203,
   "id": "6a37c277",
   "metadata": {},
   "outputs": [
    {
     "name": "stdout",
     "output_type": "stream",
     "text": [
      "     pcost       dcost       gap    pres   dres\n",
      " 0: -1.1929e+01 -2.6143e+01  2e+02  1e+01  2e+00\n",
      " 1: -2.0068e+01 -2.6219e+01  9e+01  5e+00  7e-01\n",
      " 2: -4.4907e+01 -4.4434e+01  9e+01  4e+00  6e-01\n",
      " 3: -5.0549e+01 -4.4739e+01  6e+01  2e+00  4e-01\n",
      " 4: -3.6199e+01 -3.6070e+01  2e+01  5e-01  7e-02\n",
      " 5: -3.1665e+01 -3.4049e+01  2e+00  1e-03  2e-04\n",
      " 6: -3.3771e+01 -3.3798e+01  3e-02  1e-05  2e-06\n",
      " 7: -3.3795e+01 -3.3795e+01  3e-04  1e-07  2e-08\n",
      " 8: -3.3795e+01 -3.3795e+01  3e-06  1e-09  2e-10\n",
      "Optimal solution found.\n",
      "Predicted validation values are : [1, 1, 1, 1, 1, 1, 1, 1, 1, 1]\n",
      "Accuracy observed for validation data is : 100.0\n"
     ]
    }
   ],
   "source": [
    "svm = SVM()\n",
    "svm.fit(train_X, train_y)\n",
    "est_val_y = []\n",
    "for val_point in val_X:\n",
    "    est_val_y.append(svm.predict(val_point))\n",
    "    \n",
    "print(\"Predicted validation values are : \" + str(est_val_y))\n",
    "print(\"Accuracy observed for validation data is : \" + str(accuracy(val_y, est_val_y)))"
   ]
  },
  {
   "cell_type": "code",
   "execution_count": 204,
   "id": "686d0369",
   "metadata": {},
   "outputs": [
    {
     "name": "stdout",
     "output_type": "stream",
     "text": [
      "Predicted test values are : [1, 1, 1, 1, 1, 1, 1, 1, 1, 1]\n",
      "Accuracy observed for testing is : 100.0\n"
     ]
    }
   ],
   "source": [
    "est_test_y = []\n",
    "for test_point in test_X:\n",
    "    est_test_y.append(svm.predict(test_point))\n",
    "    \n",
    "print(\"Predicted test values are : \" + str(est_test_y))\n",
    "print(\"Accuracy observed for testing is : \" + str(accuracy(test_y, est_test_y)))"
   ]
  },
  {
   "cell_type": "markdown",
   "id": "dea5a9fd",
   "metadata": {},
   "source": [
    "# Question-4\n",
    "\n",
    "#### SVM model with RBF kernel\n",
    "\n",
    "#### Consider the Setosa and Virginica flowers (100× 5 datasets) . Separate the first 80 data points as the training set, the next 10 data points as the validation set and the last 10 data points as the testing set. Find the testing accuracy of your SVM model with the RBF kernel."
   ]
  },
  {
   "cell_type": "code",
   "execution_count": 225,
   "id": "5d062c22",
   "metadata": {},
   "outputs": [
    {
     "data": {
      "text/html": [
       "<div>\n",
       "<style scoped>\n",
       "    .dataframe tbody tr th:only-of-type {\n",
       "        vertical-align: middle;\n",
       "    }\n",
       "\n",
       "    .dataframe tbody tr th {\n",
       "        vertical-align: top;\n",
       "    }\n",
       "\n",
       "    .dataframe thead th {\n",
       "        text-align: right;\n",
       "    }\n",
       "</style>\n",
       "<table border=\"1\" class=\"dataframe\">\n",
       "  <thead>\n",
       "    <tr style=\"text-align: right;\">\n",
       "      <th></th>\n",
       "      <th>Sepal Length</th>\n",
       "      <th>Sepal Width</th>\n",
       "      <th>Petal Length</th>\n",
       "      <th>Petal Width</th>\n",
       "      <th>Species</th>\n",
       "    </tr>\n",
       "  </thead>\n",
       "  <tbody>\n",
       "    <tr>\n",
       "      <th>0</th>\n",
       "      <td>5.1</td>\n",
       "      <td>3.5</td>\n",
       "      <td>1.4</td>\n",
       "      <td>0.2</td>\n",
       "      <td>Iris-setosa</td>\n",
       "    </tr>\n",
       "    <tr>\n",
       "      <th>1</th>\n",
       "      <td>4.9</td>\n",
       "      <td>3.0</td>\n",
       "      <td>1.4</td>\n",
       "      <td>0.2</td>\n",
       "      <td>Iris-setosa</td>\n",
       "    </tr>\n",
       "    <tr>\n",
       "      <th>2</th>\n",
       "      <td>4.7</td>\n",
       "      <td>3.2</td>\n",
       "      <td>1.3</td>\n",
       "      <td>0.2</td>\n",
       "      <td>Iris-setosa</td>\n",
       "    </tr>\n",
       "    <tr>\n",
       "      <th>3</th>\n",
       "      <td>4.6</td>\n",
       "      <td>3.1</td>\n",
       "      <td>1.5</td>\n",
       "      <td>0.2</td>\n",
       "      <td>Iris-setosa</td>\n",
       "    </tr>\n",
       "    <tr>\n",
       "      <th>4</th>\n",
       "      <td>5.0</td>\n",
       "      <td>3.6</td>\n",
       "      <td>1.4</td>\n",
       "      <td>0.2</td>\n",
       "      <td>Iris-setosa</td>\n",
       "    </tr>\n",
       "    <tr>\n",
       "      <th>...</th>\n",
       "      <td>...</td>\n",
       "      <td>...</td>\n",
       "      <td>...</td>\n",
       "      <td>...</td>\n",
       "      <td>...</td>\n",
       "    </tr>\n",
       "    <tr>\n",
       "      <th>145</th>\n",
       "      <td>6.7</td>\n",
       "      <td>3.0</td>\n",
       "      <td>5.2</td>\n",
       "      <td>2.3</td>\n",
       "      <td>Iris-virginica</td>\n",
       "    </tr>\n",
       "    <tr>\n",
       "      <th>146</th>\n",
       "      <td>6.3</td>\n",
       "      <td>2.5</td>\n",
       "      <td>5.0</td>\n",
       "      <td>1.9</td>\n",
       "      <td>Iris-virginica</td>\n",
       "    </tr>\n",
       "    <tr>\n",
       "      <th>147</th>\n",
       "      <td>6.5</td>\n",
       "      <td>3.0</td>\n",
       "      <td>5.2</td>\n",
       "      <td>2.0</td>\n",
       "      <td>Iris-virginica</td>\n",
       "    </tr>\n",
       "    <tr>\n",
       "      <th>148</th>\n",
       "      <td>6.2</td>\n",
       "      <td>3.4</td>\n",
       "      <td>5.4</td>\n",
       "      <td>2.3</td>\n",
       "      <td>Iris-virginica</td>\n",
       "    </tr>\n",
       "    <tr>\n",
       "      <th>149</th>\n",
       "      <td>5.9</td>\n",
       "      <td>3.0</td>\n",
       "      <td>5.1</td>\n",
       "      <td>1.8</td>\n",
       "      <td>Iris-virginica</td>\n",
       "    </tr>\n",
       "  </tbody>\n",
       "</table>\n",
       "<p>150 rows × 5 columns</p>\n",
       "</div>"
      ],
      "text/plain": [
       "     Sepal Length  Sepal Width  Petal Length  Petal Width         Species\n",
       "0             5.1          3.5           1.4          0.2     Iris-setosa\n",
       "1             4.9          3.0           1.4          0.2     Iris-setosa\n",
       "2             4.7          3.2           1.3          0.2     Iris-setosa\n",
       "3             4.6          3.1           1.5          0.2     Iris-setosa\n",
       "4             5.0          3.6           1.4          0.2     Iris-setosa\n",
       "..            ...          ...           ...          ...             ...\n",
       "145           6.7          3.0           5.2          2.3  Iris-virginica\n",
       "146           6.3          2.5           5.0          1.9  Iris-virginica\n",
       "147           6.5          3.0           5.2          2.0  Iris-virginica\n",
       "148           6.2          3.4           5.4          2.3  Iris-virginica\n",
       "149           5.9          3.0           5.1          1.8  Iris-virginica\n",
       "\n",
       "[150 rows x 5 columns]"
      ]
     },
     "execution_count": 225,
     "metadata": {},
     "output_type": "execute_result"
    }
   ],
   "source": [
    "data"
   ]
  },
  {
   "cell_type": "code",
   "execution_count": 226,
   "id": "9829d8b6",
   "metadata": {},
   "outputs": [],
   "source": [
    "selected_df = data[data['Species'].isin(['Iris-setosa', 'Iris-virginica'])]\n",
    "selected_df = selected_df.replace(['Iris-setosa', 'Iris-virginica'],[-1,1])"
   ]
  },
  {
   "cell_type": "code",
   "execution_count": 227,
   "id": "88e41378",
   "metadata": {},
   "outputs": [],
   "source": [
    "y = selected_df['Species'].to_numpy()\n",
    "X = selected_df.drop(['Species'], axis=1).to_numpy()"
   ]
  },
  {
   "cell_type": "code",
   "execution_count": 228,
   "id": "e7d2ee0e",
   "metadata": {},
   "outputs": [],
   "source": [
    "train_X = np.concatenate((X[0:40],X[50:90]), axis =0)\n",
    "train_y = np.concatenate((y[0:40],y[50:90]), axis =0)\n",
    "\n",
    "val_X = np.concatenate((X[40:45],X[90:95]), axis =0)\n",
    "val_y = np.concatenate((y[40:45],y[90:95]), axis =0)\n",
    "\n",
    "test_X = np.concatenate((X[45:50],X[95:100]), axis =0)\n",
    "test_y = np.concatenate((y[45:50],y[95:100]), axis =0)"
   ]
  },
  {
   "cell_type": "code",
   "execution_count": 229,
   "id": "6cccb4a2",
   "metadata": {},
   "outputs": [
    {
     "name": "stdout",
     "output_type": "stream",
     "text": [
      "     pcost       dcost       gap    pres   dres\n",
      " 0: -2.1366e+00 -6.2935e+00  1e+02  9e+00  1e+00\n",
      " 1: -4.1278e-01 -6.8598e+00  6e+00  1e-15  5e-16\n",
      " 2: -1.9496e+00 -2.8930e+00  9e-01  2e-16  5e-16\n",
      " 3: -2.1880e+00 -2.4183e+00  2e-01  4e-16  4e-16\n",
      " 4: -2.2592e+00 -2.3504e+00  9e-02  4e-16  3e-16\n",
      " 5: -2.2996e+00 -2.3270e+00  3e-02  3e-16  3e-16\n",
      " 6: -2.3139e+00 -2.3201e+00  6e-03  2e-16  3e-16\n",
      " 7: -2.3183e+00 -2.3185e+00  2e-04  4e-16  3e-16\n",
      " 8: -2.3184e+00 -2.3184e+00  2e-06  2e-16  4e-16\n",
      "Optimal solution found.\n",
      "Predicted validation values are : [-1, -1, -1, -1, -1, -1, -1, -1, -1, -1]\n",
      "Accuracy observed for validation data is : 50.0\n"
     ]
    }
   ],
   "source": [
    "svm = SVM()\n",
    "svm.fit(train_X, train_y, kernel_name='RBF')\n",
    "est_val_y = []\n",
    "for val_point in val_X:\n",
    "    est_val_y.append(svm.predict(val_point))\n",
    "    \n",
    "print(\"Predicted validation values are : \" + str(est_val_y))\n",
    "print(\"Accuracy observed for validation data is : \" + str(accuracy(val_y, est_val_y)))"
   ]
  },
  {
   "cell_type": "code",
   "execution_count": 230,
   "id": "433f4dde",
   "metadata": {},
   "outputs": [
    {
     "name": "stdout",
     "output_type": "stream",
     "text": [
      "Predicted test values are : [-1, -1, -1, -1, -1, -1, -1, -1, -1, -1]\n",
      "Accuracy observed for testing is : 50.0\n"
     ]
    }
   ],
   "source": [
    "est_test_y = []\n",
    "for test_point in test_X:\n",
    "    est_test_y.append(svm.predict(test_point))\n",
    "    \n",
    "print(\"Predicted test values are : \" + str(est_test_y))\n",
    "print(\"Accuracy observed for testing is : \" + str(accuracy(test_y, est_test_y)))"
   ]
  },
  {
   "cell_type": "markdown",
   "id": "2c5fe0f3",
   "metadata": {},
   "source": [
    "# Question-5\n",
    "\n",
    "#### Attempts to extend your SVM model for three-class classification with RBF kernel on the whole IRIS dataset with 80% of data points as the training set 10%of data points as the validation set and 10 % of data points as testing set."
   ]
  },
  {
   "cell_type": "code",
   "execution_count": 265,
   "id": "8de427a8",
   "metadata": {},
   "outputs": [
    {
     "data": {
      "text/html": [
       "<div>\n",
       "<style scoped>\n",
       "    .dataframe tbody tr th:only-of-type {\n",
       "        vertical-align: middle;\n",
       "    }\n",
       "\n",
       "    .dataframe tbody tr th {\n",
       "        vertical-align: top;\n",
       "    }\n",
       "\n",
       "    .dataframe thead th {\n",
       "        text-align: right;\n",
       "    }\n",
       "</style>\n",
       "<table border=\"1\" class=\"dataframe\">\n",
       "  <thead>\n",
       "    <tr style=\"text-align: right;\">\n",
       "      <th></th>\n",
       "      <th>Sepal Length</th>\n",
       "      <th>Sepal Width</th>\n",
       "      <th>Petal Length</th>\n",
       "      <th>Petal Width</th>\n",
       "      <th>Species</th>\n",
       "    </tr>\n",
       "  </thead>\n",
       "  <tbody>\n",
       "    <tr>\n",
       "      <th>0</th>\n",
       "      <td>5.1</td>\n",
       "      <td>3.5</td>\n",
       "      <td>1.4</td>\n",
       "      <td>0.2</td>\n",
       "      <td>Iris-setosa</td>\n",
       "    </tr>\n",
       "    <tr>\n",
       "      <th>1</th>\n",
       "      <td>4.9</td>\n",
       "      <td>3.0</td>\n",
       "      <td>1.4</td>\n",
       "      <td>0.2</td>\n",
       "      <td>Iris-setosa</td>\n",
       "    </tr>\n",
       "    <tr>\n",
       "      <th>2</th>\n",
       "      <td>4.7</td>\n",
       "      <td>3.2</td>\n",
       "      <td>1.3</td>\n",
       "      <td>0.2</td>\n",
       "      <td>Iris-setosa</td>\n",
       "    </tr>\n",
       "    <tr>\n",
       "      <th>3</th>\n",
       "      <td>4.6</td>\n",
       "      <td>3.1</td>\n",
       "      <td>1.5</td>\n",
       "      <td>0.2</td>\n",
       "      <td>Iris-setosa</td>\n",
       "    </tr>\n",
       "    <tr>\n",
       "      <th>4</th>\n",
       "      <td>5.0</td>\n",
       "      <td>3.6</td>\n",
       "      <td>1.4</td>\n",
       "      <td>0.2</td>\n",
       "      <td>Iris-setosa</td>\n",
       "    </tr>\n",
       "    <tr>\n",
       "      <th>...</th>\n",
       "      <td>...</td>\n",
       "      <td>...</td>\n",
       "      <td>...</td>\n",
       "      <td>...</td>\n",
       "      <td>...</td>\n",
       "    </tr>\n",
       "    <tr>\n",
       "      <th>145</th>\n",
       "      <td>6.7</td>\n",
       "      <td>3.0</td>\n",
       "      <td>5.2</td>\n",
       "      <td>2.3</td>\n",
       "      <td>Iris-virginica</td>\n",
       "    </tr>\n",
       "    <tr>\n",
       "      <th>146</th>\n",
       "      <td>6.3</td>\n",
       "      <td>2.5</td>\n",
       "      <td>5.0</td>\n",
       "      <td>1.9</td>\n",
       "      <td>Iris-virginica</td>\n",
       "    </tr>\n",
       "    <tr>\n",
       "      <th>147</th>\n",
       "      <td>6.5</td>\n",
       "      <td>3.0</td>\n",
       "      <td>5.2</td>\n",
       "      <td>2.0</td>\n",
       "      <td>Iris-virginica</td>\n",
       "    </tr>\n",
       "    <tr>\n",
       "      <th>148</th>\n",
       "      <td>6.2</td>\n",
       "      <td>3.4</td>\n",
       "      <td>5.4</td>\n",
       "      <td>2.3</td>\n",
       "      <td>Iris-virginica</td>\n",
       "    </tr>\n",
       "    <tr>\n",
       "      <th>149</th>\n",
       "      <td>5.9</td>\n",
       "      <td>3.0</td>\n",
       "      <td>5.1</td>\n",
       "      <td>1.8</td>\n",
       "      <td>Iris-virginica</td>\n",
       "    </tr>\n",
       "  </tbody>\n",
       "</table>\n",
       "<p>150 rows × 5 columns</p>\n",
       "</div>"
      ],
      "text/plain": [
       "     Sepal Length  Sepal Width  Petal Length  Petal Width         Species\n",
       "0             5.1          3.5           1.4          0.2     Iris-setosa\n",
       "1             4.9          3.0           1.4          0.2     Iris-setosa\n",
       "2             4.7          3.2           1.3          0.2     Iris-setosa\n",
       "3             4.6          3.1           1.5          0.2     Iris-setosa\n",
       "4             5.0          3.6           1.4          0.2     Iris-setosa\n",
       "..            ...          ...           ...          ...             ...\n",
       "145           6.7          3.0           5.2          2.3  Iris-virginica\n",
       "146           6.3          2.5           5.0          1.9  Iris-virginica\n",
       "147           6.5          3.0           5.2          2.0  Iris-virginica\n",
       "148           6.2          3.4           5.4          2.3  Iris-virginica\n",
       "149           5.9          3.0           5.1          1.8  Iris-virginica\n",
       "\n",
       "[150 rows x 5 columns]"
      ]
     },
     "execution_count": 265,
     "metadata": {},
     "output_type": "execute_result"
    }
   ],
   "source": [
    "data"
   ]
  },
  {
   "cell_type": "code",
   "execution_count": 266,
   "id": "5aa06a34",
   "metadata": {},
   "outputs": [],
   "source": [
    "selected_df = data[data['Species'].isin(['Iris-setosa', 'Iris-versicolor','Iris-virginica' ])]\n",
    "selected_df = selected_df.replace(['Iris-setosa', 'Iris-versicolor', 'Iris-virginica'],[1,2,3])\n",
    "\n",
    "y = selected_df['Species'].to_numpy()\n",
    "X = selected_df.drop(['Species'], axis=1).to_numpy()"
   ]
  },
  {
   "cell_type": "code",
   "execution_count": 267,
   "id": "88505fff",
   "metadata": {},
   "outputs": [],
   "source": [
    "from sklearn.model_selection import train_test_split\n",
    "\n",
    "train_ratio = 0.80\n",
    "validation_ratio = 0.10\n",
    "test_ratio = 0.10\n",
    "\n",
    "train_X, test_X, train_y, test_y = train_test_split(X, y, test_size=1 - train_ratio)\n",
    "val_X, test_X, val_y, test_y = train_test_split(test_X, test_y, test_size=test_ratio/(test_ratio + validation_ratio)) "
   ]
  },
  {
   "cell_type": "code",
   "execution_count": 268,
   "id": "6db62163",
   "metadata": {},
   "outputs": [
    {
     "name": "stdout",
     "output_type": "stream",
     "text": [
      "Validation accuracy :  1.0\n",
      "Testing accuracy :  1.0\n"
     ]
    }
   ],
   "source": [
    "from sklearn.svm import SVC\n",
    "from sklearn.metrics import accuracy_score\n",
    "\n",
    "clf =  SVC(kernel='rbf')\n",
    "clf.fit(train_X, train_y)\n",
    "\n",
    "est_val_y = clf.predict(val_X)\n",
    "est_test_y = clf.predict(test_X)\n",
    "\n",
    "validation_accuracy = accuracy_score(val_y, est_val_y)\n",
    "test_accuracy = accuracy_score(test_y, est_test_y)\n",
    "\n",
    "print(\"Validation accuracy : \" , validation_accuracy )\n",
    "print(\"Testing accuracy : \" , test_accuracy )"
   ]
  },
  {
   "cell_type": "markdown",
   "id": "092825ee",
   "metadata": {},
   "source": [
    "# Question-6\n",
    "\n",
    "### Applying PCA and then calculating testing accuracy\n",
    "\n",
    "#### Consider the Setosa and Versicolor flowers (100× 5 dataset). Apply the PCA and reduce the each flower with two features only with minimal loss of information. Separate the first 80 data points as training set, next 10 data points as validation set and last 10 data points as testing set. Find the testing accuracy of your SVM model with linear kernel on reduced set. Compare its accuracy with the accuracy computed at question (2)."
   ]
  },
  {
   "cell_type": "code",
   "execution_count": 232,
   "id": "ea8f481a",
   "metadata": {},
   "outputs": [
    {
     "data": {
      "text/html": [
       "<div>\n",
       "<style scoped>\n",
       "    .dataframe tbody tr th:only-of-type {\n",
       "        vertical-align: middle;\n",
       "    }\n",
       "\n",
       "    .dataframe tbody tr th {\n",
       "        vertical-align: top;\n",
       "    }\n",
       "\n",
       "    .dataframe thead th {\n",
       "        text-align: right;\n",
       "    }\n",
       "</style>\n",
       "<table border=\"1\" class=\"dataframe\">\n",
       "  <thead>\n",
       "    <tr style=\"text-align: right;\">\n",
       "      <th></th>\n",
       "      <th>Sepal Length</th>\n",
       "      <th>Sepal Width</th>\n",
       "      <th>Petal Length</th>\n",
       "      <th>Petal Width</th>\n",
       "      <th>Species</th>\n",
       "    </tr>\n",
       "  </thead>\n",
       "  <tbody>\n",
       "    <tr>\n",
       "      <th>0</th>\n",
       "      <td>5.1</td>\n",
       "      <td>3.5</td>\n",
       "      <td>1.4</td>\n",
       "      <td>0.2</td>\n",
       "      <td>Iris-setosa</td>\n",
       "    </tr>\n",
       "    <tr>\n",
       "      <th>1</th>\n",
       "      <td>4.9</td>\n",
       "      <td>3.0</td>\n",
       "      <td>1.4</td>\n",
       "      <td>0.2</td>\n",
       "      <td>Iris-setosa</td>\n",
       "    </tr>\n",
       "    <tr>\n",
       "      <th>2</th>\n",
       "      <td>4.7</td>\n",
       "      <td>3.2</td>\n",
       "      <td>1.3</td>\n",
       "      <td>0.2</td>\n",
       "      <td>Iris-setosa</td>\n",
       "    </tr>\n",
       "    <tr>\n",
       "      <th>3</th>\n",
       "      <td>4.6</td>\n",
       "      <td>3.1</td>\n",
       "      <td>1.5</td>\n",
       "      <td>0.2</td>\n",
       "      <td>Iris-setosa</td>\n",
       "    </tr>\n",
       "    <tr>\n",
       "      <th>4</th>\n",
       "      <td>5.0</td>\n",
       "      <td>3.6</td>\n",
       "      <td>1.4</td>\n",
       "      <td>0.2</td>\n",
       "      <td>Iris-setosa</td>\n",
       "    </tr>\n",
       "    <tr>\n",
       "      <th>...</th>\n",
       "      <td>...</td>\n",
       "      <td>...</td>\n",
       "      <td>...</td>\n",
       "      <td>...</td>\n",
       "      <td>...</td>\n",
       "    </tr>\n",
       "    <tr>\n",
       "      <th>145</th>\n",
       "      <td>6.7</td>\n",
       "      <td>3.0</td>\n",
       "      <td>5.2</td>\n",
       "      <td>2.3</td>\n",
       "      <td>Iris-virginica</td>\n",
       "    </tr>\n",
       "    <tr>\n",
       "      <th>146</th>\n",
       "      <td>6.3</td>\n",
       "      <td>2.5</td>\n",
       "      <td>5.0</td>\n",
       "      <td>1.9</td>\n",
       "      <td>Iris-virginica</td>\n",
       "    </tr>\n",
       "    <tr>\n",
       "      <th>147</th>\n",
       "      <td>6.5</td>\n",
       "      <td>3.0</td>\n",
       "      <td>5.2</td>\n",
       "      <td>2.0</td>\n",
       "      <td>Iris-virginica</td>\n",
       "    </tr>\n",
       "    <tr>\n",
       "      <th>148</th>\n",
       "      <td>6.2</td>\n",
       "      <td>3.4</td>\n",
       "      <td>5.4</td>\n",
       "      <td>2.3</td>\n",
       "      <td>Iris-virginica</td>\n",
       "    </tr>\n",
       "    <tr>\n",
       "      <th>149</th>\n",
       "      <td>5.9</td>\n",
       "      <td>3.0</td>\n",
       "      <td>5.1</td>\n",
       "      <td>1.8</td>\n",
       "      <td>Iris-virginica</td>\n",
       "    </tr>\n",
       "  </tbody>\n",
       "</table>\n",
       "<p>150 rows × 5 columns</p>\n",
       "</div>"
      ],
      "text/plain": [
       "     Sepal Length  Sepal Width  Petal Length  Petal Width         Species\n",
       "0             5.1          3.5           1.4          0.2     Iris-setosa\n",
       "1             4.9          3.0           1.4          0.2     Iris-setosa\n",
       "2             4.7          3.2           1.3          0.2     Iris-setosa\n",
       "3             4.6          3.1           1.5          0.2     Iris-setosa\n",
       "4             5.0          3.6           1.4          0.2     Iris-setosa\n",
       "..            ...          ...           ...          ...             ...\n",
       "145           6.7          3.0           5.2          2.3  Iris-virginica\n",
       "146           6.3          2.5           5.0          1.9  Iris-virginica\n",
       "147           6.5          3.0           5.2          2.0  Iris-virginica\n",
       "148           6.2          3.4           5.4          2.3  Iris-virginica\n",
       "149           5.9          3.0           5.1          1.8  Iris-virginica\n",
       "\n",
       "[150 rows x 5 columns]"
      ]
     },
     "execution_count": 232,
     "metadata": {},
     "output_type": "execute_result"
    }
   ],
   "source": [
    "data"
   ]
  },
  {
   "cell_type": "code",
   "execution_count": 233,
   "id": "f6aa4bbe",
   "metadata": {},
   "outputs": [],
   "source": [
    "selected_df = data[data['Species'].isin(['Iris-setosa', 'Iris-versicolor'])]\n",
    "selected_df = selected_df.replace(['Iris-setosa', 'Iris-versicolor'],[-1,1])\n",
    "\n",
    "y = selected_df['Species'].to_numpy()\n",
    "X = selected_df.drop(['Species'], axis=1).to_numpy()"
   ]
  },
  {
   "cell_type": "code",
   "execution_count": 236,
   "id": "cebeb262",
   "metadata": {},
   "outputs": [],
   "source": [
    "from sklearn.decomposition import PCA"
   ]
  },
  {
   "cell_type": "code",
   "execution_count": 239,
   "id": "93ac22c5",
   "metadata": {},
   "outputs": [],
   "source": [
    "pca = PCA(n_components=2)\n",
    "X = pca.fit_transform(X)"
   ]
  },
  {
   "cell_type": "code",
   "execution_count": 240,
   "id": "c8963a02",
   "metadata": {},
   "outputs": [],
   "source": [
    "train_X = np.concatenate((X[0:40],X[50:90]), axis =0)\n",
    "train_y = np.concatenate((y[0:40],y[50:90]), axis =0)\n",
    "\n",
    "val_X = np.concatenate((X[40:45],X[90:95]), axis =0)\n",
    "val_y = np.concatenate((y[40:45],y[90:95]), axis =0)\n",
    "\n",
    "test_X = np.concatenate((X[45:50],X[95:100]), axis =0)\n",
    "test_y = np.concatenate((y[45:50],y[95:100]), axis =0)"
   ]
  },
  {
   "cell_type": "code",
   "execution_count": 243,
   "id": "c9547d62",
   "metadata": {},
   "outputs": [
    {
     "name": "stdout",
     "output_type": "stream",
     "text": [
      "     pcost       dcost       gap    pres   dres\n",
      " 0: -3.1056e+00 -5.2137e+00  2e+02  1e+01  2e+00\n",
      " 1: -7.5148e-01 -1.6085e+00  1e+01  8e-01  1e-01\n",
      " 2: -1.5686e-01 -1.0793e+00  1e+00  3e-03  4e-04\n",
      " 3: -3.8944e-01 -5.8561e-01  2e-01  6e-04  6e-05\n",
      " 4: -4.1669e-01 -5.9829e-01  2e-01  5e-04  5e-05\n",
      " 5: -5.3744e-01 -5.8553e-01  5e-02  7e-05  8e-06\n",
      " 6: -5.6657e-01 -5.6798e-01  1e-03  2e-06  2e-07\n",
      " 7: -5.6772e-01 -5.6773e-01  1e-05  2e-08  2e-09\n",
      " 8: -5.6773e-01 -5.6773e-01  1e-07  2e-10  2e-11\n",
      "Optimal solution found.\n",
      "Predicted validation values are : [-1, -1, -1, -1, -1, 1, 1, 1, 1, 1]\n",
      "Accuracy observed for validation data is : 100.0\n"
     ]
    }
   ],
   "source": [
    "svm = SVM()\n",
    "svm.fit(train_X, train_y)\n",
    "est_val_y = []\n",
    "for val_point in val_X:\n",
    "    est_val_y.append(svm.predict(val_point))\n",
    "    \n",
    "print(\"Predicted validation values are : \" + str(est_val_y))\n",
    "print(\"Accuracy observed for validation data is : \" + str(accuracy(val_y, est_val_y)))"
   ]
  },
  {
   "cell_type": "code",
   "execution_count": 244,
   "id": "4b34456b",
   "metadata": {},
   "outputs": [
    {
     "name": "stdout",
     "output_type": "stream",
     "text": [
      "Predicted test values are : [-1, -1, -1, -1, -1, 1, 1, 1, 1, 1]\n",
      "Accuracy observed for testing is : 100.0\n"
     ]
    }
   ],
   "source": [
    "est_test_y = []\n",
    "for test_point in test_X:\n",
    "    est_test_y.append(svm.predict(test_point))\n",
    "    \n",
    "print(\"Predicted test values are : \" + str(est_test_y))\n",
    "print(\"Accuracy observed for testing is : \" + str(accuracy(test_y, est_test_y)))"
   ]
  },
  {
   "cell_type": "markdown",
   "id": "5c1b19e1",
   "metadata": {},
   "source": [
    "## Comparison-\n",
    "\n",
    "In 2nd question, We were asked to calculate testing accuracy by taking only first 2 features. But here, we were asked to calculate 2 principle components out of the 4 given components on the basis of PCA. Accuracy in both the cases are same.\n",
    "Although we can conclude that dataset given is very small. But, if the dataset was significantly large, we can say that accuracy in case of Question-6 would be large because 2 features of PCA made from 4 would contain more information than 2 normal features."
   ]
  },
  {
   "cell_type": "markdown",
   "id": "11f4cc05",
   "metadata": {},
   "source": [
    "# Thank You!"
   ]
  }
 ],
 "metadata": {
  "kernelspec": {
   "display_name": "Python 3 (ipykernel)",
   "language": "python",
   "name": "python3"
  },
  "language_info": {
   "codemirror_mode": {
    "name": "ipython",
    "version": 3
   },
   "file_extension": ".py",
   "mimetype": "text/x-python",
   "name": "python",
   "nbconvert_exporter": "python",
   "pygments_lexer": "ipython3",
   "version": "3.8.11"
  }
 },
 "nbformat": 4,
 "nbformat_minor": 5
}

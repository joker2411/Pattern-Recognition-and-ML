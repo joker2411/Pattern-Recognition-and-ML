{
 "cells": [
  {
   "cell_type": "markdown",
   "id": "3e56d815",
   "metadata": {},
   "source": [
    "# Observations -\n",
    "\n",
    "1. We have written code for scratch coded Logistic Regression model and then compared the results with built-in library results.\n",
    "\n",
    "2. Accuracy of scratch-coded model is lesser because dataset is skewed towards one class.\n",
    "\n",
    "3. Given sample.csv dataset has 200 data-points, but only 49 data-points belong to class '1', rest all 151 data-points belongs to class '0'.\n",
    "\n",
    "4. We have taken 5 unique learning_rates and calculated accuracy for each over all folds.\n",
    "\n",
    "5. If we increase the value of learning rate, time to reach to minima will decrease but till a certain point. After that, function will start skipping the minima and model may not converge in the given iterations."
   ]
  },
  {
   "cell_type": "markdown",
   "id": "807939dd",
   "metadata": {},
   "source": [
    "# Code"
   ]
  },
  {
   "cell_type": "code",
   "execution_count": 1,
   "id": "20e83113",
   "metadata": {},
   "outputs": [
    {
     "name": "stdout",
     "output_type": "stream",
     "text": [
      "/Users/ambuj/Downloads/Document/College Semester/2nd Sem/Pattern Recognition and ML/Assignments/202116003_PRML_assignment 6\r\n"
     ]
    }
   ],
   "source": [
    "!pwd"
   ]
  },
  {
   "cell_type": "code",
   "execution_count": 2,
   "id": "a528ff35",
   "metadata": {},
   "outputs": [],
   "source": [
    "DATASET = '/Users/ambuj/Downloads/Document/College Semester/2nd Sem/Pattern Recognition and ML/Assignments/202116003_PRML_assignment 6/sample.csv'"
   ]
  },
  {
   "cell_type": "markdown",
   "id": "25898187",
   "metadata": {},
   "source": [
    "## Part-1 : Logistic Regression Model using Gradient Descent"
   ]
  },
  {
   "cell_type": "code",
   "execution_count": 66,
   "id": "518c3066",
   "metadata": {},
   "outputs": [],
   "source": [
    "import numpy as np\n",
    "import pandas as pd\n",
    "import math\n",
    "from matplotlib import pyplot as plt"
   ]
  },
  {
   "cell_type": "code",
   "execution_count": 61,
   "id": "02633920",
   "metadata": {},
   "outputs": [],
   "source": [
    "##### function to calculate accuracies using self-coded logistic regression model\n",
    "\n",
    "def Logistic_Regression(X, y, lr, iterations, test_X, test_y):\n",
    "    w = np.array([0]*X.shape[1])\n",
    "    b = 0\n",
    "    for it in range(iterations):\n",
    "        model = np.dot(X, w) + b\n",
    "        \n",
    "        y_est = 1/(1 + np.exp(-model))\n",
    "        \n",
    "        dw = (1 / X.shape[0]) * np.dot(X.T, (y_est - y))\n",
    "        db = (1 / X.shape[0]) * np.sum(y_est - y)\n",
    "        \n",
    "        w = w - lr * dw\n",
    "        b = b - lr * db\n",
    "        \n",
    "    model = np.dot(test_X, w) + b\n",
    "    test_y_est = 1/(1 + np.exp(-model))\n",
    "    test_est_class = [1 if i > 0.5 else 0 for i in test_y_est]\n",
    "    accuracy = np.sum(test_y == test_est_class) / len(test_y)\n",
    "    return accuracy"
   ]
  },
  {
   "cell_type": "markdown",
   "id": "77494e28",
   "metadata": {},
   "source": [
    "## Part-2 : Finding accuracy with 5-fold cross-validation"
   ]
  },
  {
   "cell_type": "code",
   "execution_count": 47,
   "id": "959e2ba9",
   "metadata": {},
   "outputs": [
    {
     "data": {
      "text/html": [
       "<div>\n",
       "<style scoped>\n",
       "    .dataframe tbody tr th:only-of-type {\n",
       "        vertical-align: middle;\n",
       "    }\n",
       "\n",
       "    .dataframe tbody tr th {\n",
       "        vertical-align: top;\n",
       "    }\n",
       "\n",
       "    .dataframe thead th {\n",
       "        text-align: right;\n",
       "    }\n",
       "</style>\n",
       "<table border=\"1\" class=\"dataframe\">\n",
       "  <thead>\n",
       "    <tr style=\"text-align: right;\">\n",
       "      <th></th>\n",
       "      <th>female</th>\n",
       "      <th>read</th>\n",
       "      <th>write</th>\n",
       "      <th>math</th>\n",
       "      <th>hon</th>\n",
       "      <th>femalexmath</th>\n",
       "    </tr>\n",
       "  </thead>\n",
       "  <tbody>\n",
       "    <tr>\n",
       "      <th>0</th>\n",
       "      <td>0</td>\n",
       "      <td>57</td>\n",
       "      <td>52</td>\n",
       "      <td>41</td>\n",
       "      <td>0</td>\n",
       "      <td>0</td>\n",
       "    </tr>\n",
       "    <tr>\n",
       "      <th>1</th>\n",
       "      <td>1</td>\n",
       "      <td>68</td>\n",
       "      <td>59</td>\n",
       "      <td>53</td>\n",
       "      <td>0</td>\n",
       "      <td>53</td>\n",
       "    </tr>\n",
       "    <tr>\n",
       "      <th>2</th>\n",
       "      <td>0</td>\n",
       "      <td>44</td>\n",
       "      <td>33</td>\n",
       "      <td>54</td>\n",
       "      <td>0</td>\n",
       "      <td>0</td>\n",
       "    </tr>\n",
       "    <tr>\n",
       "      <th>3</th>\n",
       "      <td>0</td>\n",
       "      <td>63</td>\n",
       "      <td>44</td>\n",
       "      <td>47</td>\n",
       "      <td>0</td>\n",
       "      <td>0</td>\n",
       "    </tr>\n",
       "    <tr>\n",
       "      <th>4</th>\n",
       "      <td>0</td>\n",
       "      <td>47</td>\n",
       "      <td>52</td>\n",
       "      <td>57</td>\n",
       "      <td>0</td>\n",
       "      <td>0</td>\n",
       "    </tr>\n",
       "  </tbody>\n",
       "</table>\n",
       "</div>"
      ],
      "text/plain": [
       "   female  read  write  math  hon  femalexmath\n",
       "0       0    57     52    41    0            0\n",
       "1       1    68     59    53    0           53\n",
       "2       0    44     33    54    0            0\n",
       "3       0    63     44    47    0            0\n",
       "4       0    47     52    57    0            0"
      ]
     },
     "execution_count": 47,
     "metadata": {},
     "output_type": "execute_result"
    }
   ],
   "source": [
    "df = pd.read_csv(DATASET)\n",
    "df.head()"
   ]
  },
  {
   "cell_type": "code",
   "execution_count": 48,
   "id": "da418245",
   "metadata": {},
   "outputs": [
    {
     "name": "stdout",
     "output_type": "stream",
     "text": [
      "(200, 6)\n",
      "unique labels = [0 1]\n"
     ]
    }
   ],
   "source": [
    "print(df.shape)\n",
    "print(\"unique labels = \" + str( df['hon'].unique() ))"
   ]
  },
  {
   "cell_type": "code",
   "execution_count": 49,
   "id": "20a250fa",
   "metadata": {},
   "outputs": [],
   "source": [
    "y = df['hon']\n",
    "df.drop(['hon'], axis = 1, inplace = True)\n",
    "X = df"
   ]
  },
  {
   "cell_type": "code",
   "execution_count": 50,
   "id": "3e4b9c5e",
   "metadata": {},
   "outputs": [
    {
     "data": {
      "text/html": [
       "<div>\n",
       "<style scoped>\n",
       "    .dataframe tbody tr th:only-of-type {\n",
       "        vertical-align: middle;\n",
       "    }\n",
       "\n",
       "    .dataframe tbody tr th {\n",
       "        vertical-align: top;\n",
       "    }\n",
       "\n",
       "    .dataframe thead th {\n",
       "        text-align: right;\n",
       "    }\n",
       "</style>\n",
       "<table border=\"1\" class=\"dataframe\">\n",
       "  <thead>\n",
       "    <tr style=\"text-align: right;\">\n",
       "      <th></th>\n",
       "      <th>female</th>\n",
       "      <th>read</th>\n",
       "      <th>write</th>\n",
       "      <th>math</th>\n",
       "      <th>femalexmath</th>\n",
       "    </tr>\n",
       "  </thead>\n",
       "  <tbody>\n",
       "    <tr>\n",
       "      <th>0</th>\n",
       "      <td>0</td>\n",
       "      <td>57</td>\n",
       "      <td>52</td>\n",
       "      <td>41</td>\n",
       "      <td>0</td>\n",
       "    </tr>\n",
       "    <tr>\n",
       "      <th>1</th>\n",
       "      <td>1</td>\n",
       "      <td>68</td>\n",
       "      <td>59</td>\n",
       "      <td>53</td>\n",
       "      <td>53</td>\n",
       "    </tr>\n",
       "    <tr>\n",
       "      <th>2</th>\n",
       "      <td>0</td>\n",
       "      <td>44</td>\n",
       "      <td>33</td>\n",
       "      <td>54</td>\n",
       "      <td>0</td>\n",
       "    </tr>\n",
       "    <tr>\n",
       "      <th>3</th>\n",
       "      <td>0</td>\n",
       "      <td>63</td>\n",
       "      <td>44</td>\n",
       "      <td>47</td>\n",
       "      <td>0</td>\n",
       "    </tr>\n",
       "    <tr>\n",
       "      <th>4</th>\n",
       "      <td>0</td>\n",
       "      <td>47</td>\n",
       "      <td>52</td>\n",
       "      <td>57</td>\n",
       "      <td>0</td>\n",
       "    </tr>\n",
       "  </tbody>\n",
       "</table>\n",
       "</div>"
      ],
      "text/plain": [
       "   female  read  write  math  femalexmath\n",
       "0       0    57     52    41            0\n",
       "1       1    68     59    53           53\n",
       "2       0    44     33    54            0\n",
       "3       0    63     44    47            0\n",
       "4       0    47     52    57            0"
      ]
     },
     "execution_count": 50,
     "metadata": {},
     "output_type": "execute_result"
    }
   ],
   "source": [
    "X.head()"
   ]
  },
  {
   "cell_type": "code",
   "execution_count": 51,
   "id": "289a84fb",
   "metadata": {},
   "outputs": [
    {
     "data": {
      "text/plain": [
       "0    0\n",
       "1    0\n",
       "2    0\n",
       "3    0\n",
       "4    0\n",
       "Name: hon, dtype: int64"
      ]
     },
     "execution_count": 51,
     "metadata": {},
     "output_type": "execute_result"
    }
   ],
   "source": [
    "y.head()"
   ]
  },
  {
   "cell_type": "code",
   "execution_count": 93,
   "id": "8071d207",
   "metadata": {},
   "outputs": [
    {
     "name": "stdout",
     "output_type": "stream",
     "text": [
      "Accuracy in Fold number 1 is : 0.8\n",
      "Accuracy in Fold number 2 is : 0.85\n",
      "Accuracy in Fold number 3 is : 0.675\n",
      "Accuracy in Fold number 4 is : 0.65\n",
      "Accuracy in Fold number 5 is : 0.6\n"
     ]
    }
   ],
   "source": [
    "#### Applying 5-fold cross validation and calculating accuracies for each fold\n",
    "\n",
    "Fold_num = 1\n",
    "learning_rate = 0.001\n",
    "iterations = 10000\n",
    "ACCURACY = []\n",
    "\n",
    "for i in range(0, 200, 40):\n",
    "    test_X = X[i:i+40]\n",
    "    test_y = y[i:i+40]\n",
    "    \n",
    "    train_X = pd.concat([X[0:i],X[i+40:200]])\n",
    "    train_y = pd.concat([y[0:i],y[i+40:200]])\n",
    "    \n",
    "    result_acc = Logistic_Regression(train_X, train_y, learning_rate, iterations, test_X, test_y)\n",
    "    print('Accuracy in Fold number {} is : {}'.format(Fold_num, result_acc))\n",
    "    \n",
    "    ACCURACY.append(result_acc)\n",
    "    \n",
    "    Fold_num = Fold_num+1"
   ]
  },
  {
   "cell_type": "code",
   "execution_count": 94,
   "id": "bd55be16",
   "metadata": {},
   "outputs": [
    {
     "data": {
      "image/png": "[encoded data removed]",
      "text/plain": [
       "<Figure size 576x576 with 1 Axes>"
      ]
     },
     "metadata": {
      "needs_background": "light"
     },
     "output_type": "display_data"
    }
   ],
   "source": [
    "#### Plotting accuracy chart for each fold\n",
    "\n",
    "plt.figure(figsize = (8,8))\n",
    "plt.bar(list(range(1,6,1)), ACCURACY)\n",
    "plt.title('Accuracy in each fold')\n",
    "plt.xlabel('Fold Number')\n",
    "plt.ylabel('Accuracy')\n",
    "plt.show()"
   ]
  },
  {
   "cell_type": "markdown",
   "id": "b8698a1a",
   "metadata": {},
   "source": [
    "## Part-3 : Calculating accuracies using build-in functions"
   ]
  },
  {
   "cell_type": "code",
   "execution_count": 95,
   "id": "c8595053",
   "metadata": {},
   "outputs": [
    {
     "name": "stdout",
     "output_type": "stream",
     "text": [
      "Accuracy in Fold number 1 is : 1.0\n",
      "Accuracy in Fold number 2 is : 1.0\n",
      "Accuracy in Fold number 3 is : 0.975\n",
      "Accuracy in Fold number 4 is : 1.0\n",
      "Accuracy in Fold number 5 is : 1.0\n"
     ]
    }
   ],
   "source": [
    "#### creating built-in Logistic Regression model and calculating accuracies for each fold\n",
    "\n",
    "from sklearn.linear_model import LogisticRegression\n",
    "\n",
    "Fold_num = 1\n",
    "learning_rate = 0.001\n",
    "iterations = 1000\n",
    "ACCURACY_Q3 = []\n",
    "\n",
    "for i in range(0, 200, 40):\n",
    "    test_X = X[i:i+40]\n",
    "    test_y = y[i:i+40]\n",
    "    \n",
    "    train_X = pd.concat([X[0:i],X[i+40:200]])\n",
    "    train_y = pd.concat([y[0:i],y[i+40:200]])\n",
    "    \n",
    "    model = LogisticRegression(random_state=0).fit(train_X, train_y)\n",
    "    \n",
    "    result_acc = model.score(test_X, test_y)\n",
    "    print('Accuracy in Fold number {} is : {}'.format(Fold_num, result_acc))\n",
    "    \n",
    "    ACCURACY_Q3.append(result_acc)\n",
    "    \n",
    "    Fold_num = Fold_num+1"
   ]
  },
  {
   "cell_type": "code",
   "execution_count": 96,
   "id": "17f3d8b9",
   "metadata": {},
   "outputs": [
    {
     "data": {
      "image/png": "[encoded data removed]",
      "text/plain": [
       "<Figure size 576x576 with 1 Axes>"
      ]
     },
     "metadata": {
      "needs_background": "light"
     },
     "output_type": "display_data"
    }
   ],
   "source": [
    "#### Plotting accuracy chart for each fold\n",
    "\n",
    "plt.figure(figsize = (8,8))\n",
    "plt.bar(list(range(1,6,1)), ACCURACY_Q3)\n",
    "plt.title('Accuracy in each fold')\n",
    "plt.xlabel('Fold Number')\n",
    "plt.ylabel('Accuracy')\n",
    "plt.show()"
   ]
  },
  {
   "cell_type": "markdown",
   "id": "c29ef818",
   "metadata": {},
   "source": [
    "# Observation\n",
    "\n",
    "Accuracy in our case is low because dataset given, is skewed towards one class. Given sample.csv dataset has 200 data-points, but only 49 data-points belong to class '1', rest all 151 data-points belongs to class '0'."
   ]
  },
  {
   "cell_type": "code",
   "execution_count": 97,
   "id": "d2fce707",
   "metadata": {},
   "outputs": [
    {
     "name": "stdout",
     "output_type": "stream",
     "text": [
      "Number of zeros in dataset : 151\n",
      "Number of ones in dataset : 49\n"
     ]
    },
    {
     "data": {
      "image/png": "[encoded data removed]",
      "text/plain": [
       "<Figure size 576x576 with 1 Axes>"
      ]
     },
     "metadata": {
      "needs_background": "light"
     },
     "output_type": "display_data"
    }
   ],
   "source": [
    "number_of_zeros = len(y[y == 0])\n",
    "number_of_ones = len(y[y == 1])\n",
    "\n",
    "print('Number of zeros in dataset : ' + str(number_of_zeros))\n",
    "print('Number of ones in dataset : ' + str(number_of_ones))\n",
    "\n",
    "plt.figure(figsize = (8,8))\n",
    "plt.bar(['Number of zeros', 'Number of ones'], [number_of_zeros, number_of_ones])\n",
    "plt.title('Distribution of unique values in dataset')\n",
    "plt.xlabel('Unique values')\n",
    "plt.ylabel('Count')\n",
    "plt.show()"
   ]
  },
  {
   "cell_type": "markdown",
   "id": "c200b439",
   "metadata": {},
   "source": [
    "## Part-4 : Varying Step length"
   ]
  },
  {
   "cell_type": "code",
   "execution_count": 100,
   "id": "9a314476",
   "metadata": {},
   "outputs": [
    {
     "name": "stdout",
     "output_type": "stream",
     "text": [
      "Accuracy in Fold number 1 is : 0.8\n",
      "Accuracy in Fold number 2 is : 0.85\n",
      "Accuracy in Fold number 3 is : 0.65\n",
      "Accuracy in Fold number 4 is : 0.625\n",
      "Accuracy in Fold number 5 is : 0.575\n",
      "Accuracy in Fold number 1 is : 0.8\n",
      "Accuracy in Fold number 2 is : 0.85\n",
      "Accuracy in Fold number 3 is : 0.675\n",
      "Accuracy in Fold number 4 is : 0.65\n",
      "Accuracy in Fold number 5 is : 0.6\n",
      "Accuracy in Fold number 1 is : 0.8\n",
      "Accuracy in Fold number 2 is : 0.85\n",
      "Accuracy in Fold number 3 is : 0.675\n",
      "Accuracy in Fold number 4 is : 0.825\n",
      "Accuracy in Fold number 5 is : 0.625\n"
     ]
    },
    {
     "name": "stderr",
     "output_type": "stream",
     "text": [
      "/var/folders/kl/55tfkryd5vs0fjm2fnv6vd140000gn/T/ipykernel_36339/3330011543.py:7: RuntimeWarning: overflow encountered in exp\n",
      "  y_est = 1/(1 + np.exp(-model))\n"
     ]
    },
    {
     "name": "stdout",
     "output_type": "stream",
     "text": [
      "Accuracy in Fold number 1 is : 0.6\n",
      "Accuracy in Fold number 2 is : 0.85\n",
      "Accuracy in Fold number 3 is : 0.675\n",
      "Accuracy in Fold number 4 is : 0.175\n",
      "Accuracy in Fold number 5 is : 0.625\n"
     ]
    },
    {
     "name": "stderr",
     "output_type": "stream",
     "text": [
      "/var/folders/kl/55tfkryd5vs0fjm2fnv6vd140000gn/T/ipykernel_36339/3330011543.py:16: RuntimeWarning: overflow encountered in exp\n",
      "  test_y_est = 1/(1 + np.exp(-model))\n"
     ]
    },
    {
     "name": "stdout",
     "output_type": "stream",
     "text": [
      "Accuracy in Fold number 1 is : 0.8\n",
      "Accuracy in Fold number 2 is : 0.85\n",
      "Accuracy in Fold number 3 is : 0.675\n",
      "Accuracy in Fold number 4 is : 0.825\n",
      "Accuracy in Fold number 5 is : 0.625\n"
     ]
    },
    {
     "data": {
      "text/plain": [
       "[[0.8, 0.85, 0.65, 0.625, 0.575],\n",
       " [0.8, 0.85, 0.675, 0.65, 0.6],\n",
       " [0.8, 0.85, 0.675, 0.825, 0.625],\n",
       " [0.6, 0.85, 0.675, 0.175, 0.625],\n",
       " [0.8, 0.85, 0.675, 0.825, 0.625]]"
      ]
     },
     "execution_count": 100,
     "metadata": {},
     "output_type": "execute_result"
    }
   ],
   "source": [
    "#### Taking 5 different learning rates and calculating accuracy score for each on all folds\n",
    "\n",
    "learning_rates = [0.0001, 0.001, 0.01, 0.1, 0.5]\n",
    "ACCURACY_lr = []\n",
    "for lr in learning_rates:\n",
    "    Fold_num = 1\n",
    "    iterations = 10000\n",
    "    ACCURACY_temp = []\n",
    "\n",
    "    for i in range(0, 200, 40):\n",
    "        test_X = X[i:i+40]\n",
    "        test_y = y[i:i+40]\n",
    "\n",
    "        train_X = pd.concat([X[0:i],X[i+40:200]])\n",
    "        train_y = pd.concat([y[0:i],y[i+40:200]])\n",
    "\n",
    "        result_acc = Logistic_Regression(train_X, train_y, lr, iterations, test_X, test_y)\n",
    "        print('Accuracy in Fold number {} is : {}'.format(Fold_num, result_acc))\n",
    "\n",
    "        ACCURACY_temp.append(result_acc)\n",
    "\n",
    "        Fold_num = Fold_num+1\n",
    "        \n",
    "    ACCURACY_lr.append(ACCURACY_temp)\n",
    "\n",
    "ACCURACY_lr"
   ]
  },
  {
   "cell_type": "code",
   "execution_count": 104,
   "id": "3420c972",
   "metadata": {
    "scrolled": false
   },
   "outputs": [
    {
     "data": {
      "image/png": "[encoded data removed]",
      "text/plain": [
       "<Figure size 576x576 with 1 Axes>"
      ]
     },
     "metadata": {
      "needs_background": "light"
     },
     "output_type": "display_data"
    },
    {
     "data": {
      "image/png": "[encoded data removed]",
      "text/plain": [
       "<Figure size 576x576 with 1 Axes>"
      ]
     },
     "metadata": {
      "needs_background": "light"
     },
     "output_type": "display_data"
    },
    {
     "data": {
      "image/png": "[encoded data removed]",
      "text/plain": [
       "<Figure size 576x576 with 1 Axes>"
      ]
     },
     "metadata": {
      "needs_background": "light"
     },
     "output_type": "display_data"
    },
    {
     "data": {
      "image/png": "[encoded data removed]",
      "text/plain": [
       "<Figure size 576x576 with 1 Axes>"
      ]
     },
     "metadata": {
      "needs_background": "light"
     },
     "output_type": "display_data"
    },
    {
     "data": {
      "image/png": "[encoded data removed]",
      "text/plain": [
       "<Figure size 576x576 with 1 Axes>"
      ]
     },
     "metadata": {
      "needs_background": "light"
     },
     "output_type": "display_data"
    }
   ],
   "source": [
    "for i in range(5):\n",
    "    lr = learning_rates[i]\n",
    "    acc_vec = ACCURACY_lr[i]\n",
    "    fig1 = plt.figure(figsize = (8,8))\n",
    "    plt.bar(list(range(1,6,1)), acc_vec)\n",
    "    plt.title('Accuracy in each fold')\n",
    "    plt.xlabel('Fold Number')\n",
    "    plt.ylabel('Accuracy')\n",
    "    plt.show()\n",
    "    plt.close(fig1)"
   ]
  },
  {
   "cell_type": "markdown",
   "id": "3bce6248",
   "metadata": {},
   "source": [
    "## Thank you!"
   ]
  }
 ],
 "metadata": {
  "kernelspec": {
   "display_name": "Python 3 (ipykernel)",
   "language": "python",
   "name": "python3"
  },
  "language_info": {
   "codemirror_mode": {
    "name": "ipython",
    "version": 3
   },
   "file_extension": ".py",
   "mimetype": "text/x-python",
   "name": "python",
   "nbconvert_exporter": "python",
   "pygments_lexer": "ipython3",
   "version": "3.8.11"
  }
 },
 "nbformat": 4,
 "nbformat_minor": 5
}

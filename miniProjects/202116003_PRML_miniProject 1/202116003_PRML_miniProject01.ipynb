{
 "cells": [
  {
   "cell_type": "markdown",
   "metadata": {
    "id": "xbQmgHqQXVAT"
   },
   "source": [
    "# **THIS NOTEBOOK CONTAINS THE REPORT AS WELL.**"
   ]
  },
  {
   "cell_type": "markdown",
   "metadata": {
    "id": "D3CH53zEXnkD"
   },
   "source": [
    "**report description of the assignment is at the very end under the section name Report.**"
   ]
  },
  {
   "cell_type": "markdown",
   "metadata": {
    "id": "HZbv6unsXX2r"
   },
   "source": [
    "# Question 1\n",
    "\n",
    "Generate 20 real number for the variable X from the uniform distribution U [0,1]"
   ]
  },
  {
   "cell_type": "code",
   "execution_count": null,
   "metadata": {
    "id": "98_L8pi2Xb7u"
   },
   "outputs": [],
   "source": [
    "import numpy as np"
   ]
  },
  {
   "cell_type": "code",
   "execution_count": null,
   "metadata": {
    "id": "6h3AaTPgXkXN"
   },
   "outputs": [],
   "source": [
    "def generate_X(N):\n",
    "  X = []\n",
    "  for i in range(N):\n",
    "    X = np.random.uniform(size = N)\n",
    "  return X"
   ]
  },
  {
   "cell_type": "code",
   "execution_count": null,
   "metadata": {
    "colab": {
     "base_uri": "https://localhost:8080/"
    },
    "id": "7tD5Qf_zWZMM",
    "outputId": "ccfb0e7b-e1a8-4d8a-b46c-2ea3dc748b41"
   },
   "outputs": [
    {
     "name": "stdout",
     "output_type": "stream",
     "text": [
      "20 Uniformly distributed random variables are :\n",
      "[0.78938002 0.33157513 0.78598403 0.59129987 0.47035189 0.64889641\n",
      " 0.58472103 0.0618906  0.42024901 0.71719943 0.57879746 0.60930452\n",
      " 0.88030561 0.63398472 0.22885138 0.47892786 0.97921782 0.10531742\n",
      " 0.30830269 0.10580863]\n"
     ]
    }
   ],
   "source": [
    "X = generate_X(20)\n",
    "print('20 Uniformly distributed random variables are :')\n",
    "print(X)"
   ]
  },
  {
   "cell_type": "markdown",
   "metadata": {
    "id": "ibFYpkMFYU_4"
   },
   "source": [
    "# Question 2\n",
    "\n",
    "Construct the training set T = { (x 1 ,y 1 ),(x 2 ,y 2 ),……,(x 20 ,y 20 )} using the relation\n",
    "\n",
    "Yi = sin(2 π x i ) + ϵ i where ϵ i ~ N(0,0.25)"
   ]
  },
  {
   "cell_type": "code",
   "execution_count": null,
   "metadata": {
    "id": "Foym0AiTY3sF"
   },
   "outputs": [],
   "source": [
    "import math"
   ]
  },
  {
   "cell_type": "code",
   "execution_count": null,
   "metadata": {
    "id": "Hxe9lzlYY3pw"
   },
   "outputs": [],
   "source": [
    "def generate_Y(X, N):\n",
    "  PI = math.pi\n",
    "  Exp = 2*PI*X\n",
    "  Epsilon = np.random.normal(0, 0.25, size = N)\n",
    "  # print(Epsilon)\n",
    "  Y = np.sin(Exp) + Epsilon\n",
    "  return Y"
   ]
  },
  {
   "cell_type": "code",
   "execution_count": null,
   "metadata": {
    "colab": {
     "base_uri": "https://localhost:8080/"
    },
    "id": "Y1QQLxH-Y3nZ",
    "outputId": "1df61331-fc9b-458a-fa3b-a2675b3f2516"
   },
   "outputs": [
    {
     "name": "stdout",
     "output_type": "stream",
     "text": [
      "20 output for X datapoints are :\n",
      "[-0.92425289  1.03951639 -0.9480243  -0.56355602  0.08763402 -0.95270376\n",
      " -0.71648746  0.54483456  0.71459886 -0.71728125 -0.74552529 -0.11948154\n",
      " -1.10277904 -1.08509895  1.08245367  0.07093497 -0.3792553   0.36716978\n",
      "  1.60572261  0.79760895]\n"
     ]
    }
   ],
   "source": [
    "Y = generate_Y(X, 20)\n",
    "print('20 output for X datapoints are :')\n",
    "print(Y)"
   ]
  },
  {
   "cell_type": "code",
   "execution_count": null,
   "metadata": {
    "id": "fPAnWocgeWeD"
   },
   "outputs": [],
   "source": [
    "def create_XY_set(X, Y):\n",
    "  result = np.array(list(zip(X,Y)))\n",
    "  # print(result)\n",
    "  return result"
   ]
  },
  {
   "cell_type": "code",
   "execution_count": null,
   "metadata": {
    "colab": {
     "base_uri": "https://localhost:8080/"
    },
    "id": "f32Bf5qxZqag",
    "outputId": "c00aaddf-a737-4d41-a093-729959560fd4"
   },
   "outputs": [
    {
     "data": {
      "text/plain": [
       "array([[ 0.78938002, -0.92425289],\n",
       "       [ 0.33157513,  1.03951639],\n",
       "       [ 0.78598403, -0.9480243 ],\n",
       "       [ 0.59129987, -0.56355602],\n",
       "       [ 0.47035189,  0.08763402],\n",
       "       [ 0.64889641, -0.95270376],\n",
       "       [ 0.58472103, -0.71648746],\n",
       "       [ 0.0618906 ,  0.54483456],\n",
       "       [ 0.42024901,  0.71459886],\n",
       "       [ 0.71719943, -0.71728125],\n",
       "       [ 0.57879746, -0.74552529],\n",
       "       [ 0.60930452, -0.11948154],\n",
       "       [ 0.88030561, -1.10277904],\n",
       "       [ 0.63398472, -1.08509895],\n",
       "       [ 0.22885138,  1.08245367],\n",
       "       [ 0.47892786,  0.07093497],\n",
       "       [ 0.97921782, -0.3792553 ],\n",
       "       [ 0.10531742,  0.36716978],\n",
       "       [ 0.30830269,  1.60572261],\n",
       "       [ 0.10580863,  0.79760895]])"
      ]
     },
     "execution_count": 652,
     "metadata": {},
     "output_type": "execute_result"
    }
   ],
   "source": [
    "training_set = create_XY_set(X, Y)\n",
    "training_set"
   ]
  },
  {
   "cell_type": "code",
   "execution_count": null,
   "metadata": {
    "colab": {
     "base_uri": "https://localhost:8080/"
    },
    "id": "NbIXiSbjZ0d0",
    "outputId": "c29ebdda-1a92-40da-c3e1-39f297f77879"
   },
   "outputs": [
    {
     "name": "stdout",
     "output_type": "stream",
     "text": [
      "(20, 2)\n"
     ]
    }
   ],
   "source": [
    "print(training_set.shape)"
   ]
  },
  {
   "cell_type": "markdown",
   "metadata": {
    "id": "yPvJ1luNa1V7"
   },
   "source": [
    "# Question-3\n",
    "\n",
    "In the similar way construct a testing set of size 50\n",
    "I,e. Test = { (x’ 1 ,y’ 1 ),(x’ 2 ,y’ 2 ),……,(x’ 50 ,y’ 50 )}"
   ]
  },
  {
   "cell_type": "code",
   "execution_count": null,
   "metadata": {
    "id": "P-GAipCya4QJ"
   },
   "outputs": [],
   "source": [
    "test_X = generate_X(50)"
   ]
  },
  {
   "cell_type": "code",
   "execution_count": null,
   "metadata": {
    "id": "zp97-L0pbST-"
   },
   "outputs": [],
   "source": [
    "test_y = generate_Y(test_X, 50)"
   ]
  },
  {
   "cell_type": "code",
   "execution_count": null,
   "metadata": {
    "id": "H29oOYKGbYWx"
   },
   "outputs": [],
   "source": [
    "testing_set = create_XY_set(test_X, test_y)"
   ]
  },
  {
   "cell_type": "code",
   "execution_count": null,
   "metadata": {
    "colab": {
     "base_uri": "https://localhost:8080/"
    },
    "id": "-MNaC-HvbiBM",
    "outputId": "c48be748-29e0-4c50-dae2-c4beb39a09d7"
   },
   "outputs": [
    {
     "name": "stdout",
     "output_type": "stream",
     "text": [
      "(50, 2)\n",
      "[[ 0.70735186 -0.68535791]\n",
      " [ 0.62959253 -0.77206032]\n",
      " [ 0.7191311  -0.97540304]\n",
      " [ 0.18748142  0.95150828]\n",
      " [ 0.20960343  0.82656222]\n",
      " [ 0.9732285   0.09524397]\n",
      " [ 0.98764631 -0.05229892]\n",
      " [ 0.25609544  0.8166996 ]\n",
      " [ 0.01114718 -0.25634066]\n",
      " [ 0.45116659  0.53076056]\n",
      " [ 0.98333684 -0.25026677]\n",
      " [ 0.69872492 -1.09377727]\n",
      " [ 0.43665104  0.57451207]\n",
      " [ 0.18252568  0.94192008]\n",
      " [ 0.92722532 -0.7192706 ]\n",
      " [ 0.66512885 -0.87734274]\n",
      " [ 0.6744     -1.09692992]\n",
      " [ 0.45022863  0.28279377]\n",
      " [ 0.41805996  0.16584311]\n",
      " [ 0.3502645   1.01093242]\n",
      " [ 0.91669152 -0.27978445]\n",
      " [ 0.39825651  0.38853677]\n",
      " [ 0.25105671  0.81631003]\n",
      " [ 0.23538071  1.44232729]\n",
      " [ 0.04562728  0.06957143]\n",
      " [ 0.55582304 -0.45402382]\n",
      " [ 0.56133431 -0.4510827 ]\n",
      " [ 0.27051148  1.32076278]\n",
      " [ 0.55702157 -0.4552805 ]\n",
      " [ 0.95900966 -0.43669794]\n",
      " [ 0.72046052 -1.05528477]\n",
      " [ 0.57581242 -0.60085848]\n",
      " [ 0.58240043 -0.56975695]\n",
      " [ 0.2392561   1.40381656]\n",
      " [ 0.33864198  1.46504893]\n",
      " [ 0.46359855  0.13661531]\n",
      " [ 0.97247361  0.19852437]\n",
      " [ 0.70111445 -1.43180418]\n",
      " [ 0.19075432  0.74946717]\n",
      " [ 0.5138466  -0.16600281]\n",
      " [ 0.60071339 -0.54702065]\n",
      " [ 0.05022117  0.20793898]\n",
      " [ 0.04844696  0.26752308]\n",
      " [ 0.95737029 -0.81630559]\n",
      " [ 0.97188079  0.48993748]\n",
      " [ 0.86795092 -0.54372222]\n",
      " [ 0.58486841 -0.20869343]\n",
      " [ 0.51701877  0.11338462]\n",
      " [ 0.71363066 -1.1601672 ]\n",
      " [ 0.03023278 -0.35542509]]\n"
     ]
    }
   ],
   "source": [
    "print(testing_set.shape)\n",
    "print(testing_set)"
   ]
  },
  {
   "cell_type": "markdown",
   "metadata": {
    "id": "eV4xrtSDnGrF"
   },
   "source": [
    "# Question-4 & Question-5\n",
    "\n",
    "4.) Estimate the Least Square polynomial regression model of order M= 1,2, 3,\n",
    "9, using the training set T.\n",
    "\n",
    "\n",
    "5.) List the value of coefficients of estimated polynomial regression models for\n",
    "each case."
   ]
  },
  {
   "cell_type": "code",
   "execution_count": null,
   "metadata": {
    "id": "9D1Fhj1Nr8E7"
   },
   "outputs": [],
   "source": [
    "def polynomial_regression_parameters(X, Y, degree):\n",
    "  rows = len(X)\n",
    "  cols = degree+1\n",
    "  X_matrix = np.zeros((rows,cols))\n",
    "  for m in range(cols):\n",
    "    X_matrix[:,m] = X**m\n",
    "  w_optimal = np.linalg.inv(X_matrix.T @ X_matrix) @ X_matrix.T @ Y\n",
    "  return w_optimal"
   ]
  },
  {
   "cell_type": "code",
   "execution_count": null,
   "metadata": {
    "id": "bGIM9VO7o9aF"
   },
   "outputs": [],
   "source": [
    "train_X, train_Y = zip(*training_set)\n",
    "train_X = np.array(train_X)\n",
    "train_Y = np.array(train_Y)"
   ]
  },
  {
   "cell_type": "code",
   "execution_count": null,
   "metadata": {
    "colab": {
     "base_uri": "https://localhost:8080/"
    },
    "id": "dQhqP4i0pkBq",
    "outputId": "47267588-8029-4c37-95fe-f557d148f09c"
   },
   "outputs": [
    {
     "name": "stdout",
     "output_type": "stream",
     "text": [
      "The optimal weight value for polynomial regression of degree 1 is : [ 1.19499207 -2.50658556]\n",
      "The optimal weight value for polynomial regression of degree 2 is : [ 1.23894008 -2.75442561  0.25320523]\n",
      "The optimal weight value for polynomial regression of degree 3 is : [ -0.37555177  14.67783561 -40.71889852  26.39565996]\n",
      "The optimal weight value for polynomial regression of degree 9 is : [-2.06874104e+00  1.04888169e+02 -1.58742367e+03  1.19029595e+04\n",
      " -4.88008285e+04  1.17556347e+05 -1.72120504e+05  1.51335433e+05\n",
      " -7.37139301e+04  1.53257276e+04]\n"
     ]
    }
   ],
   "source": [
    "##### the parameters are in the form of coefficient starting from 1 to the highest power of x\n",
    "\n",
    "degree_list = [1,2,3,9]\n",
    "w_cap_matrix = np.zeros((len(degree_list), max(degree_list)+1))   ####this will generate a weight matrix of size 4x10.\n",
    "for i in range(len(degree_list)):\n",
    "  w_cap = polynomial_regression_parameters(train_X, train_Y, degree_list[i])\n",
    "  w_cap_matrix[i, 0:len(w_cap)] = w_cap\n",
    "  print('The optimal weight value for polynomial regression of degree {} is : {}'.format(degree_list[i], w_cap))\n"
   ]
  },
  {
   "cell_type": "code",
   "execution_count": null,
   "metadata": {
    "colab": {
     "base_uri": "https://localhost:8080/"
    },
    "id": "zhZXppj4pn0o",
    "outputId": "4a631209-f3da-43ef-b5da-3a516612d7d6"
   },
   "outputs": [
    {
     "name": "stdout",
     "output_type": "stream",
     "text": [
      "(4, 10)\n",
      "[[ 1.19499207e+00 -2.50658556e+00  0.00000000e+00  0.00000000e+00\n",
      "   0.00000000e+00  0.00000000e+00  0.00000000e+00  0.00000000e+00\n",
      "   0.00000000e+00  0.00000000e+00]\n",
      " [ 1.23894008e+00 -2.75442561e+00  2.53205226e-01  0.00000000e+00\n",
      "   0.00000000e+00  0.00000000e+00  0.00000000e+00  0.00000000e+00\n",
      "   0.00000000e+00  0.00000000e+00]\n",
      " [-3.75551767e-01  1.46778356e+01 -4.07188985e+01  2.63956600e+01\n",
      "   0.00000000e+00  0.00000000e+00  0.00000000e+00  0.00000000e+00\n",
      "   0.00000000e+00  0.00000000e+00]\n",
      " [-2.06874104e+00  1.04888169e+02 -1.58742367e+03  1.19029595e+04\n",
      "  -4.88008285e+04  1.17556347e+05 -1.72120504e+05  1.51335433e+05\n",
      "  -7.37139301e+04  1.53257276e+04]]\n"
     ]
    }
   ],
   "source": [
    "print(w_cap_matrix.shape)\n",
    "print(w_cap_matrix)"
   ]
  },
  {
   "cell_type": "markdown",
   "metadata": {
    "id": "brUVUHY8wZSQ"
   },
   "source": [
    "# Question-6\n",
    "\n",
    "Obtain the prediction on testing set and compute the RMSE for polynomial\n",
    "regression models for order M =1,2,3 and 9 ."
   ]
  },
  {
   "cell_type": "code",
   "execution_count": null,
   "metadata": {
    "id": "e7LeQtoG31tO"
   },
   "outputs": [],
   "source": [
    "def predict_Y(W, X):\n",
    "  X_matrix = np.zeros((10, len(X)))      #####This will create and X matrix of shape 10x50\n",
    "  for i in range(10):\n",
    "    X_matrix[i,:] = X**i\n",
    "  predicted_Y_matrix = W @ X_matrix\n",
    "  return predicted_Y_matrix"
   ]
  },
  {
   "cell_type": "code",
   "execution_count": null,
   "metadata": {
    "id": "nf__pQJr_fbN"
   },
   "outputs": [],
   "source": [
    "def calculate_RMSE(Y, Y_real):\n",
    "  error = np.subtract(Y, Y_real)\n",
    "  squared_error = np.square(error)\n",
    "  total_squared_error = squared_error.sum(axis = 1)     #### to sum all the values in each row\n",
    "  total_mean_squared_error = total_squared_error/50\n",
    "  total_root_mean_squared_error = np.sqrt(total_mean_squared_error)\n",
    "  return total_mean_squared_error"
   ]
  },
  {
   "cell_type": "code",
   "execution_count": null,
   "metadata": {
    "id": "hLVOqq3twdA9"
   },
   "outputs": [],
   "source": [
    "test_X, test_Y = zip(*sorted(testing_set, key = lambda x:x[0]))\n",
    "test_X = np.array(test_X)\n",
    "test_Y = np.array(test_Y)"
   ]
  },
  {
   "cell_type": "code",
   "execution_count": null,
   "metadata": {
    "id": "EAAKReDV3xfb"
   },
   "outputs": [],
   "source": [
    "estimated_Y_matrix_on_testing_set = predict_Y(w_cap_matrix, test_X.T)"
   ]
  },
  {
   "cell_type": "code",
   "execution_count": null,
   "metadata": {
    "colab": {
     "base_uri": "https://localhost:8080/"
    },
    "id": "tkiKIurh6HH7",
    "outputId": "15078b7b-825e-4a2c-cde9-5e4c6d49212f"
   },
   "outputs": [
    {
     "name": "stdout",
     "output_type": "stream",
     "text": [
      "(4, 50)\n",
      "[[ 1.16705071  1.11921103  1.0806234   1.07355562  1.06910841  0.73747584\n",
      "   0.72505386  0.71685004  0.66960314  0.60499019  0.59527619  0.56569695\n",
      "   0.55306694  0.51693189  0.34615697  0.31702413  0.19672805  0.147089\n",
      "   0.10048888  0.06645549  0.06410441  0.03294264 -0.0930084  -0.10095971\n",
      "  -0.19822594 -0.20123016 -0.2120404  -0.24833103 -0.26484444 -0.27103063\n",
      "  -0.31074745 -0.38313548 -0.4722103  -0.49544923 -0.55642172 -0.56241129\n",
      "  -0.57804588 -0.59378424 -0.60757155 -0.61090386 -0.98060118 -1.10277365\n",
      "  -1.12917752 -1.20473847 -1.2088477  -1.24111028 -1.24259623 -1.24448844\n",
      "  -1.26982585 -1.2806279 ]\n",
      " [ 1.20826747  1.15589758  1.11379028  1.10609083  1.10124823  0.74462237\n",
      "   0.73143645  0.72273492  0.67272725  0.60463004  0.59442131  0.56338244\n",
      "   0.55015068  0.51236498  0.3352131   0.30522711  0.18213259  0.13167874\n",
      "   0.08449443  0.05014499  0.04777553  0.01641214 -0.10955626 -0.11746577\n",
      "  -0.2138081  -0.21677165 -0.22742951 -0.26313969 -0.27935383 -0.28542226\n",
      "  -0.3243095  -0.39485852 -0.48109078 -0.50348292 -0.56202676 -0.56776159\n",
      "  -0.5827176  -0.59775298 -0.61090806 -0.61408526 -0.96101685 -1.07324425\n",
      "  -1.0973407  -1.16598791 -1.16970796 -1.19886768 -1.2002087  -1.20191609\n",
      "  -1.22475096 -1.23447037]\n",
      " [-0.21695845  0.03171145  0.21189463  0.24297457  0.26222995  1.10746552\n",
      "   1.11897272  1.1258744   1.15511315  1.1675617   1.16682948  1.16061087\n",
      "   1.15617233  1.13781039  0.95047506  0.90424757  0.67896718  0.57268054\n",
      "   0.46744314  0.38784492  0.38227263  0.30763671 -0.00350936 -0.02336755\n",
      "  -0.26439322 -0.27172731 -0.29803533 -0.3852648  -0.42430895 -0.43881727\n",
      "  -0.53023816 -0.68757076 -0.85985465 -0.90012569 -0.99509467 -1.00352812\n",
      "  -1.02474009 -1.04489086 -1.06152177 -1.06539502 -1.05194159 -0.80451223\n",
      "  -0.73176772 -0.48285208 -0.46752596 -0.34056321 -0.3344289  -0.3265805\n",
      "  -0.21746918 -0.16865331]\n",
      " [-1.08103273 -0.05762826  0.35314385  0.40080771  0.4272972   0.79110377\n",
      "   0.82437243  0.84699409  0.98262212  1.1605099   1.18441615  1.25021885\n",
      "   1.27464813  1.33051151  1.26753295  1.20446821  0.83071486  0.64364796\n",
      "   0.4624414   0.3306281   0.32160932  0.20375899 -0.21936776 -0.24236144\n",
      "  -0.48287151 -0.48910056 -0.51093496 -0.57775115 -0.60496454 -0.61466527\n",
      "  -0.67084479 -0.74895904 -0.81118348 -0.82277016 -0.84666646 -0.84861003\n",
      "  -0.85342329 -0.85794256 -0.86168725 -0.86256793 -1.07485178 -1.16686805\n",
      "  -1.15052804 -0.90173424 -0.8753194  -0.60015113 -0.58419374 -0.56340485\n",
      "  -0.2295805  -0.05195873]]\n"
     ]
    }
   ],
   "source": [
    "print(estimated_Y_matrix_on_testing_set.shape)\n",
    "print(estimated_Y_matrix_on_testing_set)"
   ]
  },
  {
   "cell_type": "code",
   "execution_count": null,
   "metadata": {
    "id": "eAa4Yj0L9UJD"
   },
   "outputs": [],
   "source": [
    "###### calculate actual Y-matrix of shape 4x50 using the testing_set\n",
    "actual_y_matrix_on_testing_set = np.zeros(estimated_Y_matrix_on_testing_set.shape)\n",
    "for i in range(4):\n",
    "  actual_y_matrix_on_testing_set[i,:] = test_Y.T\n",
    "\n",
    "##### calculating the matrix for RMSE for all given degree list\n",
    "RMSE_matrix_on_testing_set = calculate_RMSE(estimated_Y_matrix_on_testing_set, actual_y_matrix_on_testing_set)"
   ]
  },
  {
   "cell_type": "code",
   "execution_count": null,
   "metadata": {
    "colab": {
     "base_uri": "https://localhost:8080/"
    },
    "id": "iAuuijrpOrtx",
    "outputId": "7ad87ab1-65b5-4d03-cfcc-53bfb93cf699"
   },
   "outputs": [
    {
     "name": "stdout",
     "output_type": "stream",
     "text": [
      "(4,)\n",
      "[0.5047766  0.4978564  0.07851355 0.13469139]\n"
     ]
    }
   ],
   "source": [
    "print(RMSE_matrix_on_testing_set.shape)\n",
    "print(RMSE_matrix_on_testing_set)"
   ]
  },
  {
   "cell_type": "markdown",
   "metadata": {
    "id": "-6gCjEPxNz_m"
   },
   "source": [
    "# Question-7\n",
    "\n",
    "Plot the estimate obtained by polynomial regression models for order M\n",
    "=1,2,3 and 9 for training set along with y 1, y 2, , y 20. . Also plot our actual\n",
    "mean estiamte E(Y/X) = sin(2 π x i ) ."
   ]
  },
  {
   "cell_type": "code",
   "execution_count": null,
   "metadata": {
    "id": "XbdeqkZrCjIr"
   },
   "outputs": [],
   "source": [
    "train_X, train_Y = zip(*sorted(training_set, key = lambda x:x[0]))\n",
    "train_X = np.array(train_X)\n",
    "train_Y = np.array(train_Y)"
   ]
  },
  {
   "cell_type": "code",
   "execution_count": null,
   "metadata": {
    "id": "L1mrHr3WOR4B"
   },
   "outputs": [],
   "source": [
    "estimated_Y_matrix_on_training_set = predict_Y(w_cap_matrix, train_X.T)"
   ]
  },
  {
   "cell_type": "code",
   "execution_count": null,
   "metadata": {
    "colab": {
     "base_uri": "https://localhost:8080/"
    },
    "id": "OlWpV30SQM1p",
    "outputId": "88369ea2-1858-4597-d632-15f449a3e0aa"
   },
   "outputs": [
    {
     "name": "stdout",
     "output_type": "stream",
     "text": [
      "(4, 20)\n",
      "[[ 1.03985798e+00  9.31004945e-01  9.29773674e-01  6.21356515e-01\n",
      "   4.22205003e-01  3.63870631e-01  1.41601969e-01  1.60148199e-02\n",
      "  -5.48159956e-03 -2.55813279e-01 -2.70661231e-01 -2.87151654e-01\n",
      "  -3.32281843e-01 -3.94144862e-01 -4.31522306e-01 -6.02729660e-01\n",
      "  -7.75144159e-01 -7.83656481e-01 -1.01156926e+00 -1.25950118e+00]\n",
      " [ 1.06943691e+00  9.51659576e-01  9.50332822e-01  6.21847097e-01\n",
      "   4.13810558e-01  3.53478953e-01  1.26113827e-01 -5.92382862e-04\n",
      "  -2.21529289e-02 -2.70489061e-01 -2.85059974e-01 -3.01221885e-01\n",
      "  -3.45340947e-01 -4.05551200e-01 -4.41780561e-01 -6.06289946e-01\n",
      "  -7.69571648e-01 -7.77571006e-01 -9.89577891e-01 -1.21545229e+00]\n",
      " [ 3.83154329e-01  7.49470039e-01  7.52890582e-01  1.16729059e+00\n",
      "   1.05281818e+00  9.76762454e-01  5.60542820e-01  2.66553998e-01\n",
      "   2.13933317e-01 -4.03010932e-01 -4.37952810e-01 -4.76299271e-01\n",
      "  -5.78408625e-01 -7.10258511e-01 -7.84474589e-01 -1.05579176e+00\n",
      "  -1.17733239e+00 -1.17848082e+00 -1.00254074e+00 -2.62837827e-01]\n",
      " [ 5.45694053e-01  5.80121345e-01  5.79567701e-01  1.11810948e+00\n",
      "   1.36370822e+00  1.29915389e+00  6.22448452e-01  1.41381011e-01\n",
      "   6.42442749e-02 -5.90321853e-01 -6.14093437e-01 -6.38717530e-01\n",
      "  -6.97151069e-01 -7.58447911e-01 -7.86649501e-01 -8.60391772e-01\n",
      "  -9.10738116e-01 -9.14424483e-01 -1.10926443e+00 -3.78734511e-01]]\n"
     ]
    }
   ],
   "source": [
    "print(estimated_Y_matrix_on_training_set.shape)\n",
    "print(estimated_Y_matrix_on_training_set)"
   ]
  },
  {
   "cell_type": "code",
   "execution_count": null,
   "metadata": {
    "id": "aJC0EZkYQV90"
   },
   "outputs": [],
   "source": [
    "###### calculate actual Y-matrix of shape 4x50 using the testing_set\n",
    "actual_y_matrix_on_training_set = np.zeros(estimated_Y_matrix_on_training_set.shape)\n",
    "for i in range(4):\n",
    "  actual_y_matrix_on_training_set[i,:] = train_Y.T\n",
    "\n",
    "##### calculating the matrix for RMSE for all given degree list\n",
    "RMSE_matrix_on_training_set = calculate_RMSE(estimated_Y_matrix_on_training_set, actual_y_matrix_on_training_set)"
   ]
  },
  {
   "cell_type": "code",
   "execution_count": null,
   "metadata": {
    "colab": {
     "base_uri": "https://localhost:8080/"
    },
    "id": "RchAJ8aqQ1ws",
    "outputId": "5c8ef8c7-dc02-4a33-edc8-539c1dd9489a"
   },
   "outputs": [
    {
     "name": "stdout",
     "output_type": "stream",
     "text": [
      "(4,)\n",
      "[0.10289561 0.10277106 0.02809325 0.01523558]\n"
     ]
    }
   ],
   "source": [
    "print(RMSE_matrix_on_training_set.shape)\n",
    "print(RMSE_matrix_on_training_set)"
   ]
  },
  {
   "cell_type": "code",
   "execution_count": null,
   "metadata": {
    "id": "iUBFBGymQ_ja"
   },
   "outputs": [],
   "source": [
    "####### for plotting the estimated values\n",
    "\n",
    "from matplotlib import pyplot as plt\n",
    "\n",
    "def plot_values(X, real_Y, estimated_Y, weights, degrees):\n",
    "  PI = math.pi\n",
    "  myline = np.linspace(min(X), max(X), 100)\n",
    "  actual_mean_estimate = np.sin(2*PI*myline)\n",
    "  color = ['y', 'b', 'g', 'm']\n",
    "  \n",
    "  plt.figure(figsize = (8,8))\n",
    "  plt.scatter(X, real_Y)\n",
    "\n",
    "  for i in range(len(degrees)):\n",
    "    estimated_Y_current_degree = estimated_Y[i,:]\n",
    "    w = weights[i,:]\n",
    "    polynomial = np.poly1d(np.flip(w,0))\n",
    "    plt.plot(myline, polynomial(myline), color = color[i], linestyle='--', label = 'M = '+str(degrees[i]))\n",
    "    \n",
    "  plt.plot(myline, actual_mean_estimate, '-r', label = 'Actual Mean Estimate')\n",
    "  plt.legend()\n",
    "  return plt"
   ]
  },
  {
   "cell_type": "code",
   "execution_count": null,
   "metadata": {
    "colab": {
     "base_uri": "https://localhost:8080/",
     "height": 499
    },
    "id": "f1i5hrm4Tz8b",
    "outputId": "3d12a1d1-c279-43a5-f989-db9ccd51e1bd"
   },
   "outputs": [
    {
     "data": {
      "image/png": "[encoded data removed]",
      "text/plain": [
       "<Figure size 576x576 with 1 Axes>"
      ]
     },
     "metadata": {
      "needs_background": "light"
     },
     "output_type": "display_data"
    }
   ],
   "source": [
    "plt = plot_values(train_X, train_Y, estimated_Y_matrix_on_training_set, w_cap_matrix, degree_list)\n",
    "plt.title('Modelled Regression and Actual Mean Estimate For Training data')\n",
    "plt.show()"
   ]
  },
  {
   "cell_type": "markdown",
   "metadata": {
    "id": "T_Rmj88cIKe7"
   },
   "source": [
    "# Question-8\n",
    "\n",
    "Plot the estimate obtained by polynomial regression models for order M\n",
    "=1,2,3 and 9 for testing set along with y’ 1, y’ 2, , y’ 50. . Also plot the sin(2 π x’ i )"
   ]
  },
  {
   "cell_type": "code",
   "execution_count": null,
   "metadata": {
    "colab": {
     "base_uri": "https://localhost:8080/",
     "height": 499
    },
    "id": "OyF17iYrIOdP",
    "outputId": "38d5cbe9-9239-4761-89ce-48ceb3e517e1"
   },
   "outputs": [
    {
     "data": {
      "image/png": "[encoded data removed]",
      "text/plain": [
       "<Figure size 576x576 with 1 Axes>"
      ]
     },
     "metadata": {
      "needs_background": "light"
     },
     "output_type": "display_data"
    }
   ],
   "source": [
    "plt = plot_values(test_X, test_Y, estimated_Y_matrix_on_testing_set, w_cap_matrix, degree_list)\n",
    "plt.title('Modelled Regression and Actual Mean Estimate For Testing data')\n",
    "plt.show()"
   ]
  },
  {
   "cell_type": "markdown",
   "metadata": {
    "id": "dFBwEdkdZN--"
   },
   "source": [
    "# Question-9"
   ]
  },
  {
   "cell_type": "markdown",
   "metadata": {
    "id": "3REHRsNEZq7D"
   },
   "source": [
    "The description and observations are mentioned under the section named 'REPORT' below."
   ]
  },
  {
   "cell_type": "markdown",
   "metadata": {
    "id": "NKlTsY5QZ64d"
   },
   "source": [
    "# Question-10"
   ]
  },
  {
   "cell_type": "markdown",
   "metadata": {
    "id": "ceg-VST3Z-h3"
   },
   "source": [
    "The statistical reasons behind the observations are also discussed in section named 'REPORT' below."
   ]
  },
  {
   "cell_type": "code",
   "execution_count": null,
   "metadata": {
    "id": "bOwfFXGYaPXM"
   },
   "outputs": [],
   "source": []
  },
  {
   "cell_type": "markdown",
   "metadata": {
    "id": "sf5aSU9eaQeP"
   },
   "source": [
    "# **REPORT**"
   ]
  },
  {
   "cell_type": "markdown",
   "metadata": {
    "id": "oHMUoDXPaX3V"
   },
   "source": [
    "## Question-1"
   ]
  },
  {
   "cell_type": "markdown",
   "metadata": {
    "id": "wtxNcaCgaemQ"
   },
   "source": [
    "We have created a function generate_X() to generate 20 random values of X are generated using the function \n",
    "\n",
    "```\n",
    "numpy.random.uniform()\n",
    "```\n",
    "for complete code, check section 'Question-1'"
   ]
  },
  {
   "cell_type": "markdown",
   "metadata": {
    "id": "9YZk076TbOVn"
   },
   "source": [
    "## Question-2"
   ]
  },
  {
   "cell_type": "markdown",
   "metadata": {
    "id": "Ds-xqNyFbTic"
   },
   "source": [
    "We made another function generate_Y() to calculate equivalent Y values to their corresponding X. numpy.sin(2\\*PI\\*X) function is used to calculate the actual mean estimate values and numpy.random.normal() is used to generate 20 epsilon values. Both these values are added to generate Y for our training data.\n",
    "\n",
    "Both these X and Y are zipped together to generate training data."
   ]
  },
  {
   "cell_type": "markdown",
   "metadata": {
    "id": "B--3izx2cU99"
   },
   "source": [
    "## Question-3"
   ]
  },
  {
   "cell_type": "markdown",
   "metadata": {
    "id": "JIr3V0SCcarj"
   },
   "source": [
    "Function defined for question 1 and 2 are used to generate 50 testing data-points in similar fashion."
   ]
  },
  {
   "cell_type": "markdown",
   "metadata": {
    "id": "XvDawdz4doTn"
   },
   "source": [
    "## Question-4 and Question-5"
   ]
  },
  {
   "cell_type": "markdown",
   "metadata": {
    "id": "dv7CPqp2dwJK"
   },
   "source": [
    "Function ***polynomial_regression_parameters()*** is created to calculate the least square polynomial's coefficient. This function also takes input the degree of the polynomial. It calculates using the formula for least square polynomial coefficient that coded from scratch in this function.\n",
    "\n",
    "So, it is further used to generate the coefficient of polynomial for all different degree M = 1,2,3,9 and these coefficients are stored in a single matrix named ***w_cap_matrix*** .\n",
    "\n",
    "These least square weights are also printed.(check section \"Question-4 & Question-5\")"
   ]
  },
  {
   "cell_type": "markdown",
   "metadata": {
    "id": "tifsoIw0fOsU"
   },
   "source": [
    "## Question-6"
   ]
  },
  {
   "cell_type": "markdown",
   "metadata": {
    "id": "zjYskHK7fyHh"
   },
   "source": [
    "Two functions are created ***predict_Y()*** and ***calculate_RMSE()*** for this question. In first function, it is used to calculate the estimated Y values for testing data-points using the *w_cap_matrix* calculated in previous section.\n",
    "\n",
    "The second function is used to calculate the root mean square error using the estimated Y values and actual Y values from testing dataset.\n",
    "\n",
    "Prediction values and RMSE are printed in the section \"Question-6\"."
   ]
  },
  {
   "cell_type": "markdown",
   "metadata": {
    "id": "uHYb3MAdh5-0"
   },
   "source": [
    "## Question-7"
   ]
  },
  {
   "cell_type": "markdown",
   "metadata": {
    "id": "qJ9BQZznh-nr"
   },
   "source": [
    "The same functions defined in question-6 are used to calculate the estimated Y values for training data-point in this question.\n",
    "\n",
    "Further, we have plotted the figure containing our polynomial regression model for all the degree M=1,2,3,9 and actual mean estimated values.\n",
    "\n",
    "**Check section \"Question-7\" to analyse the diagram**"
   ]
  },
  {
   "cell_type": "markdown",
   "metadata": {
    "id": "AAA-cAmbi24g"
   },
   "source": [
    "## Question-8"
   ]
  },
  {
   "cell_type": "markdown",
   "metadata": {
    "id": "QeTIwKbFjQhb"
   },
   "source": [
    "We used the estimated Y values for testing data in question-6 to plot the figure containing our polynomial regression model for all the degree M=1,2,3,9 and actual mean estimated values.\n",
    "\n",
    "**Check section \"Question-8\" to analyse the diagram**"
   ]
  },
  {
   "cell_type": "markdown",
   "metadata": {
    "id": "JMQgQWxRjxFc"
   },
   "source": [
    "## Question-9"
   ]
  },
  {
   "cell_type": "markdown",
   "metadata": {
    "id": "7CZqhZftj4kd"
   },
   "source": [
    "If we increase the value of M which mean the highest degree of the polynomial then it means that the flexibility in our curve increases. So, it'll get more sensitive towards the noise.\n",
    "\n",
    "For the observation, even in our code we have used 4 different M values(1,2,3,9). So, for all these M values **root mean square error** are as following:\n",
    "\n",
    "\n",
    "1.   For Training Data:\n",
    "\n",
    "\n",
    "*   RMSE for M = 1 : 0.10289561\n",
    "\n",
    "*   RMSE for M = 2 : 0.10277106\n",
    "*   RMSE for M = 3 : 0.02809325\n",
    "\n",
    "*   RMSE for M = 9 : 0.01523558\n",
    "\n",
    "  \n",
    "2.   For Testing Data:\n",
    "\n",
    "*   RMSE for M = 1 : 0.5047766\n",
    "\n",
    "*   RMSE for M = 2 : 0.4978564\n",
    "*   RMSE for M = 3 : 0.07851355\n",
    "\n",
    "*   RMSE for M = 9 : 0.13469139"
   ]
  },
  {
   "cell_type": "markdown",
   "metadata": {
    "id": "eSzZlQ6Dn8PK"
   },
   "source": [
    "## Question-10"
   ]
  },
  {
   "cell_type": "markdown",
   "metadata": {
    "id": "tIty6Xd8oCU1"
   },
   "source": [
    "**Statistical Reasons behind observation :**\n",
    "\n",
    "Looking at the RMSE, we can say that RMSE value for degree M = 9 is very low in case of training data but very high in case of testing data. Thus, we can conclude that the model must have overfitted in case of M=9. To improve this case, we'll have to perform regularization.\n",
    "\n"
   ]
  }
 ],
 "metadata": {
  "colab": {
   "collapsed_sections": [],
   "name": "PRML assignment1.ipynb",
   "provenance": []
  },
  "kernelspec": {
   "display_name": "Python 3 (ipykernel)",
   "language": "python",
   "name": "python3"
  },
  "language_info": {
   "codemirror_mode": {
    "name": "ipython",
    "version": 3
   },
   "file_extension": ".py",
   "mimetype": "text/x-python",
   "name": "python",
   "nbconvert_exporter": "python",
   "pygments_lexer": "ipython3",
   "version": "3.8.11"
  }
 },
 "nbformat": 4,
 "nbformat_minor": 1
}
